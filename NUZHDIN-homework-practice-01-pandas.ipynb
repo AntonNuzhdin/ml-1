{
 "cells": [
  {
   "cell_type": "markdown",
   "metadata": {
    "id": "HcF9My_FhLuk"
   },
   "source": [
    "## Машинное обучение 1, ПМИ ФКН ВШЭ\n",
    "\n",
    "## Практическое домашнее задание 1\n",
    "\n",
    "### Общая информация\n",
    "\n",
    "Дата выдачи: 19.09.2023\n",
    "\n",
    "Мягкий дедлайн: 23:59MSK 02.10.2023\n",
    "\n",
    "Жесткий дедлайн: 23:59MSK 06.10.2023"
   ]
  },
  {
   "cell_type": "markdown",
   "metadata": {
    "id": "G64TptyJhLuo"
   },
   "source": [
    "### О задании\n",
    "\n",
    "Задание состоит из двух разделов, посвященных работе с табличными данными с помощью библиотеки pandas и визуализации с помощью matplotlib. В первом разделе вам предстоит выполнить базовые задания с помощью вышеуказанных библиотек, а во втором распределить студентов по курсам. Баллы даются за выполнение отдельных пунктов. Задачи в рамках одного раздела рекомендуется решать в том порядке, в котором они даны в задании.\n",
    "\n",
    "Задание направлено на освоение jupyter notebook (будет использоваться в дальнейших заданиях), библиотек pandas и matplotlib.\n",
    "\n",
    "### Оценивание и штрафы\n",
    "Каждая из задач имеет определенную «стоимость» (указана в скобках около задачи). Максимально допустимая оценка за работу — 10 баллов.\n",
    "\n",
    "Сдавать задание после жёсткого дедлайна нельзя. При выставлении неполного балла за задание в связи с наличием ошибок на усмотрение проверяющего предусмотрена возможность исправить работу на указанных в ответном письме условиях.\n",
    "\n",
    "Задание выполняется самостоятельно. «Похожие» решения считаются плагиатом и все задействованные студенты (в том числе те, у кого списали) не могут получить за него больше 0 баллов (подробнее о плагиате см. на странице курса). Если вы нашли решение какого-то из заданий (или его часть) в открытом источнике, необходимо указать ссылку на этот источник (скорее всего вы будете не единственным, кто это нашел, поэтому чтобы исключить подозрение в плагиате, необходима ссылка на источник).\n",
    "\n",
    "### Формат сдачи\n",
    "Задания сдаются через систему Anytask. Инвайт можно получить у семинариста или ассистента. Присылать необходимо ноутбук с выполненным заданием. Сам ноутбук называйте в формате homework-practice-01-pandas-Username.ipynb, где Username — ваша фамилия.\n",
    "\n",
    "Для удобства проверки самостоятельно посчитайте свою максимальную оценку (исходя из набора решенных задач) и укажите ниже.\n",
    "\n",
    "Оценка: xx."
   ]
  },
  {
   "cell_type": "markdown",
   "metadata": {
    "id": "BaXlfHE_hLup"
   },
   "source": [
    "## 0. Введение"
   ]
  },
  {
   "cell_type": "markdown",
   "metadata": {
    "id": "wirAvJNxhLup"
   },
   "source": [
    "Сейчас мы находимся в jupyter-ноутбуке (или ipython-ноутбуке). Это удобная среда для написания кода, проведения экспериментов, изучения данных, построения визуализаций и других нужд, не связанных с написанием production-кода. \n",
    "\n",
    "Ноутбук состоит из ячеек, каждая из которых может быть либо ячейкой с кодом, либо ячейкой с текстом размеченным и неразмеченным. Текст поддерживает markdown-разметку и формулы в Latex.\n",
    "\n",
    "Для работы с содержимым ячейки используется *режим редактирования* (*Edit mode*, включается нажатием клавиши **Enter** после выбора ячейки), а для навигации между ячейками искользуется *командный режим* (*Command mode*, включается нажатием клавиши **Esc**). Тип ячейки можно задать в командном режиме либо с помощью горячих клавиш (**y** to code, **m** to markdown, **r** to edit raw text), либо в меню *Cell -> Cell type*. \n",
    "\n",
    "После заполнения ячейки нужно нажать *Shift + Enter*, эта команда обработает содержимое ячейки: проинтерпретирует код или сверстает размеченный текст."
   ]
  },
  {
   "cell_type": "code",
   "execution_count": 228,
   "metadata": {
    "id": "aQ2_j3nkhLuq"
   },
   "outputs": [
    {
     "data": {
      "text/plain": [
       "4"
      ]
     },
     "execution_count": 228,
     "metadata": {},
     "output_type": "execute_result"
    }
   ],
   "source": [
    "# ячейка с кодом, при выполнении которой появится output\n",
    "2 + 2"
   ]
  },
  {
   "cell_type": "markdown",
   "metadata": {
    "id": "ZlulCwVKhLur"
   },
   "source": [
    "Ячейка с неразмеченным текстом."
   ]
  },
  {
   "cell_type": "markdown",
   "metadata": {
    "id": "A4wkVlIehLur"
   },
   "source": [
    "Попробуйте создать свои ячейки, написать какой-нибудь код и текст какой-нибудь формулой."
   ]
  },
  {
   "cell_type": "code",
   "execution_count": 229,
   "metadata": {
    "id": "BIuaYSvqhLus"
   },
   "outputs": [
    {
     "name": "stdout",
     "output_type": "stream",
     "text": [
      "42\n"
     ]
    }
   ],
   "source": [
    "# your code\n",
    "print(42)"
   ]
  },
  {
   "cell_type": "markdown",
   "metadata": {},
   "source": [
    "$\\frac{1}{n} + \\frac{2}{n} = \\frac{3}{n}$ написал какую-нибудь формулу"
   ]
  },
  {
   "cell_type": "markdown",
   "metadata": {
    "id": "iWs6ljrIhLus"
   },
   "source": [
    "[Здесь](https://athena.brynmawr.edu/jupyter/hub/dblank/public/Jupyter%20Notebook%20Users%20Manual.ipynb) находится <s>не</s>большая заметка о используемом языке разметки Markdown. Он позволяет:\n",
    "\n",
    "0. Составлять упорядоченные списки\n",
    "1. Выделять *текст* <s>при</s> **необходимости**\n",
    "2. Добавлять [ссылки](http://imgs.xkcd.com/comics/the_universal_label.png)\n",
    "\n",
    "\n",
    "* Составлять неупорядоченные списки\n",
    "\n",
    "Делать вставки с помощью LaTex:\n",
    "    \n",
    "$\n",
    "\\left\\{\n",
    "\\begin{array}{ll}\n",
    "x = 16 \\sin^3 (t) \\\\ \n",
    "y = 13 \\cos (t) - 5 \\cos (2t) - 2 \\cos (3t) - \\cos (4t) \\\\\n",
    "t \\in [0, 2 \\pi]\n",
    "\\end{array}\n",
    "\\right.$"
   ]
  },
  {
   "cell_type": "markdown",
   "metadata": {
    "id": "6fmTGcXOhLus"
   },
   "source": [
    "А ещё можно вставлять картинки, или гифки, или что захотите:\n",
    "\n",
    "<img src=\"https://media1.tenor.com/images/9b8fbe9214504bcf6c60fe4e4f7e114e/tenor.gif?itemid=5416416\" style=\"width: 400px\">"
   ]
  },
  {
   "cell_type": "markdown",
   "metadata": {
    "id": "J_toGw7DhLut"
   },
   "source": [
    "### Google Colab"
   ]
  },
  {
   "cell_type": "markdown",
   "metadata": {
    "id": "jpkbCVjGhLut"
   },
   "source": [
    "Что за колаб? \n",
    "\n",
    "**Google Colab (Colaboratory)** это **Jupyter Notebook + Cloud + Google Drive.**\n",
    "\n",
    "Компания Google предоставляет возможность бесплатно запускать ноутбуки (предварительно загрузив их на свой гугл-диск) прямо в облаке. При этом вам не требуется установка никаких пакетов на свою машину, а работать можно прямиком из браузера. Вот ссылка:"
   ]
  },
  {
   "cell_type": "markdown",
   "metadata": {
    "id": "06MQog3yhLut"
   },
   "source": [
    "https://colab.research.google.com"
   ]
  },
  {
   "cell_type": "markdown",
   "metadata": {
    "id": "5_hfWXKPhLut"
   },
   "source": [
    "При использовании вы увидете много сходств с jupyter ноутбуком. Одним из преимуществ является доступность GPU, соответствующую опцию можно активировать в настройках сервиса. При желании вы сможете найти в интернете много туториалов по использованию или разобраться самостоятельно =)"
   ]
  },
  {
   "cell_type": "markdown",
   "metadata": {
    "id": "sUe2vnFGhLuu"
   },
   "source": [
    "## 1. Табличные данные и Pandas"
   ]
  },
  {
   "cell_type": "markdown",
   "metadata": {
    "id": "DJQzjjqJhLuu"
   },
   "source": [
    "Pandas — удобная библиотека для работы с табличными данными в Python, если данных не слишком много и они помещаются в оперативную память вашего компьютера. Несмотря на неэффективность реализации и некоторые проблемы, библиотека стала стандартом в анализе данных.\n",
    "\n",
    "Основной объект в pandas — это DataFrame, представляющий собой таблицу с именованными колонками различных типов, индексом (может быть многоуровневым). DataFrame можно создавать, считывая таблицу из файла или задавая вручную из других объектов.\n",
    "\n",
    "В этой части потребуется выполнить несколько небольших заданий. Можно пойти двумя путями: сначала изучить материалы, а потом приступить к заданиям, или же разбираться \"по ходу\". Выбирайте сами.\n",
    "\n",
    "Материалы:\n",
    "1. [Pandas за 10 минут из официального руководства](http://pandas.pydata.org/pandas-docs/stable/10min.html)\n",
    "2. [Документация](http://pandas.pydata.org/pandas-docs/stable/index.html) (стоит обращаться, если не понятно, как вызывать конкретный метод)\n",
    "3. [Примеры использования функционала](http://nbviewer.jupyter.org/github/justmarkham/pandas-videos/blob/master/pandas.ipynb)\n",
    "\n",
    "Многие из заданий можно выполнить несколькими способами. Не существуют единственно верного, но попробуйте максимально задействовать арсенал pandas и ориентируйтесь на простоту и понятность вашего кода. Мы не будем подсказывать, что нужно использовать для решения конкретной задачи, попробуйте находить необходимый функционал сами (название метода чаще всего очевидно). В помощь вам документация, поиск и stackoverflow."
   ]
  },
  {
   "cell_type": "code",
   "execution_count": 230,
   "metadata": {
    "id": "26zbFY25hLuv",
    "outputId": "404c22c6-2696-48ab-c71e-7a3ffbc36b18"
   },
   "outputs": [
    {
     "name": "stdout",
     "output_type": "stream",
     "text": [
      "Populating the interactive namespace from numpy and matplotlib\n"
     ]
    }
   ],
   "source": [
    "%pylab inline\n",
    "import pandas as pd"
   ]
  },
  {
   "cell_type": "markdown",
   "metadata": {},
   "source": [
    "<span style=\"color:red\">Перед выполнением задания необходимо ознакомиться с первым семинаром (seminars/sem01-pandas.ipynb) </span>.\n",
    "\n",
    "Это поможет вам получить общее понимание происходяшего и успешнее справиться с заданием.\n",
    "\n",
    "Также успешному выполнению способствует внимательное чтение текста задания от начала до конца.\n",
    "\n",
    "Удачи!"
   ]
  },
  {
   "cell_type": "markdown",
   "metadata": {
    "id": "dneJl9TyhLuv"
   },
   "source": [
    "Скачаем подготовленные на семинаре данные:"
   ]
  },
  {
   "cell_type": "code",
   "execution_count": 231,
   "metadata": {
    "id": "rj_I0RslhLuw"
   },
   "outputs": [],
   "source": [
    "!wget  -O 'end_seminar.xlsx' -q 'https://www.dropbox.com/s/f4rm8sjc3v99p0m/_end_seminar.xlsx?dl=0'"
   ]
  },
  {
   "cell_type": "markdown",
   "metadata": {
    "id": "5hp7bn_ThLuw"
   },
   "source": [
    "Для пользователей Windows: скачайте файл самостоятельно и поместите его в папку с тетрадкой. Или попробуйте один из следующих вариантов:"
   ]
  },
  {
   "cell_type": "code",
   "execution_count": 232,
   "metadata": {
    "id": "4h4_BaX8hLuw"
   },
   "outputs": [],
   "source": [
    "# !powershell iwr -outf somefile https://somesite/somefile"
   ]
  },
  {
   "cell_type": "code",
   "execution_count": 233,
   "metadata": {
    "id": "7bHroLGChLuw"
   },
   "outputs": [],
   "source": [
    "# !pip install wget\n",
    "# import wget \n",
    "# wget.download('https://dropbox.com/s/f4rm8sjc3v99p0m/_end_seminar.xlsx?dl=1', 'end_seminar.xlsx')"
   ]
  },
  {
   "cell_type": "markdown",
   "metadata": {
    "id": "VFs_6IythLux"
   },
   "source": [
    "##### В первой части задания (до раздела \"Распределение студентов по курсам\") использование циклов запрещается и повлечет за собой снижение оценки. Использование <code>vectorize</code> и  <code>apply</code>, <code>apply_along_axis</code> крайне нежелательно."
   ]
  },
  {
   "cell_type": "markdown",
   "metadata": {
    "id": "shFkfJkohLux"
   },
   "source": [
    "Для каждой задачи из этого раздела вы должны написать код для получения ответа, а также дать текстовый ответ, если он предполагается.\n",
    "\n",
    "На некоторые вопросы вы можете получить путём пристального взгляда на таблицу, но это не будет засчитываться. Вы в любом случае должны получить ответ с помощью кода."
   ]
  },
  {
   "cell_type": "markdown",
   "metadata": {
    "id": "gDD85M7bhLux"
   },
   "source": [
    "#### 1. [0 баллов] Откройте файл с таблицей (не забудьте про её формат). Выведите последние 10 строк.\n",
    "\n",
    "Посмотрите на данные и скажите, что они из себя представляют, сколько в таблице строк, какие столбцы? (на это не надо отвечать, просто подумайте об этом)"
   ]
  },
  {
   "cell_type": "code",
   "execution_count": 234,
   "metadata": {
    "id": "PKulur3LhLuy"
   },
   "outputs": [
    {
     "data": {
      "text/html": [
       "<div>\n",
       "<style scoped>\n",
       "    .dataframe tbody tr th:only-of-type {\n",
       "        vertical-align: middle;\n",
       "    }\n",
       "\n",
       "    .dataframe tbody tr th {\n",
       "        vertical-align: top;\n",
       "    }\n",
       "\n",
       "    .dataframe thead th {\n",
       "        text-align: right;\n",
       "    }\n",
       "</style>\n",
       "<table border=\"1\" class=\"dataframe\">\n",
       "  <thead>\n",
       "    <tr style=\"text-align: right;\">\n",
       "      <th></th>\n",
       "      <th>timestamp</th>\n",
       "      <th>id</th>\n",
       "      <th>rating</th>\n",
       "      <th>18_group</th>\n",
       "      <th>is_mi</th>\n",
       "      <th>fall_1</th>\n",
       "      <th>fall_2</th>\n",
       "      <th>fall_3</th>\n",
       "      <th>spring_1</th>\n",
       "      <th>spring_2</th>\n",
       "      <th>spring_3</th>\n",
       "      <th>is_first_time</th>\n",
       "      <th>percentile</th>\n",
       "      <th>17_group</th>\n",
       "      <th>blended</th>\n",
       "      <th>is_ml_student</th>\n",
       "    </tr>\n",
       "  </thead>\n",
       "  <tbody>\n",
       "    <tr>\n",
       "      <th>0</th>\n",
       "      <td>2020-05-15 01:12:50.543</td>\n",
       "      <td>93ff79a51cd602f1dd3028ba2c129503</td>\n",
       "      <td>698</td>\n",
       "      <td>181.0</td>\n",
       "      <td>NaN</td>\n",
       "      <td>Язык SQL</td>\n",
       "      <td>Высокопроизводительные вычисления</td>\n",
       "      <td>Матричные вычисления</td>\n",
       "      <td>Дискретная оптимизация</td>\n",
       "      <td>Численные методы</td>\n",
       "      <td>Машинное обучение 2</td>\n",
       "      <td>Да</td>\n",
       "      <td>0.183857</td>\n",
       "      <td>NaN</td>\n",
       "      <td>NaN</td>\n",
       "      <td>NaN</td>\n",
       "    </tr>\n",
       "    <tr>\n",
       "      <th>1</th>\n",
       "      <td>2020-05-15 02:46:48.066</td>\n",
       "      <td>26b01b1c4cd5656bab18d24c548834fb</td>\n",
       "      <td>647</td>\n",
       "      <td>181.0</td>\n",
       "      <td>NaN</td>\n",
       "      <td>Высокопроизводительные вычисления</td>\n",
       "      <td>Безопасность компьютерных систем</td>\n",
       "      <td>Язык SQL</td>\n",
       "      <td>Дискретная оптимизация</td>\n",
       "      <td>Численные методы</td>\n",
       "      <td>Машинное обучение 2</td>\n",
       "      <td>Нет</td>\n",
       "      <td>0.426009</td>\n",
       "      <td>NaN</td>\n",
       "      <td>NaN</td>\n",
       "      <td>NaN</td>\n",
       "    </tr>\n",
       "    <tr>\n",
       "      <th>2</th>\n",
       "      <td>2020-05-15 03:12:41.480</td>\n",
       "      <td>30f3653fc176d54e89ac3179c455c6dd</td>\n",
       "      <td>624</td>\n",
       "      <td>185.0</td>\n",
       "      <td>NaN</td>\n",
       "      <td>Безопасность компьютерных систем</td>\n",
       "      <td>Матричные вычисления</td>\n",
       "      <td>Моделирование временных рядов</td>\n",
       "      <td>Дискретная оптимизация</td>\n",
       "      <td>Машинное обучение 2</td>\n",
       "      <td>Численные методы</td>\n",
       "      <td>Да</td>\n",
       "      <td>0.538117</td>\n",
       "      <td>NaN</td>\n",
       "      <td>NaN</td>\n",
       "      <td>NaN</td>\n",
       "    </tr>\n",
       "    <tr>\n",
       "      <th>3</th>\n",
       "      <td>2020-05-15 04:43:08.994</td>\n",
       "      <td>1528f0eaa027580820ccf0d92a53ad68</td>\n",
       "      <td>579</td>\n",
       "      <td>182.0</td>\n",
       "      <td>NaN</td>\n",
       "      <td>Statistical Learning Theory</td>\n",
       "      <td>Высокопроизводительные вычисления</td>\n",
       "      <td>Матричные вычисления</td>\n",
       "      <td>Дискретная оптимизация</td>\n",
       "      <td>Численные методы</td>\n",
       "      <td>Машинное обучение 2</td>\n",
       "      <td>Да</td>\n",
       "      <td>0.744395</td>\n",
       "      <td>NaN</td>\n",
       "      <td>NaN</td>\n",
       "      <td>NaN</td>\n",
       "    </tr>\n",
       "    <tr>\n",
       "      <th>4</th>\n",
       "      <td>2020-05-15 07:47:17.197</td>\n",
       "      <td>496ea4f0d4abe264b1bb1b80eb3830c5</td>\n",
       "      <td>572</td>\n",
       "      <td>183.0</td>\n",
       "      <td>NaN</td>\n",
       "      <td>Высокопроизводительные вычисления</td>\n",
       "      <td>Безопасность компьютерных систем</td>\n",
       "      <td>Теория баз данных</td>\n",
       "      <td>Компьютерные сети</td>\n",
       "      <td>Дискретная оптимизация</td>\n",
       "      <td>Численные методы</td>\n",
       "      <td>Да</td>\n",
       "      <td>0.780269</td>\n",
       "      <td>NaN</td>\n",
       "      <td>NaN</td>\n",
       "      <td>NaN</td>\n",
       "    </tr>\n",
       "    <tr>\n",
       "      <th>5</th>\n",
       "      <td>2020-05-15 09:10:18.558</td>\n",
       "      <td>d0d8ff53ed5b119f9056068e954256c6</td>\n",
       "      <td>591</td>\n",
       "      <td>187.0</td>\n",
       "      <td>NaN</td>\n",
       "      <td>Язык SQL</td>\n",
       "      <td>Statistical Learning Theory</td>\n",
       "      <td>Сбор и обработка данных с помощью краудсорсинга</td>\n",
       "      <td>Промышленное программирование на языке Java</td>\n",
       "      <td>Численные методы</td>\n",
       "      <td>Дискретная оптимизация</td>\n",
       "      <td>Да</td>\n",
       "      <td>0.690583</td>\n",
       "      <td>NaN</td>\n",
       "      <td>NaN</td>\n",
       "      <td>NaN</td>\n",
       "    </tr>\n",
       "    <tr>\n",
       "      <th>6</th>\n",
       "      <td>2020-05-15 11:42:16.910</td>\n",
       "      <td>e4caca755ee0bdd711e18fb8084958b5</td>\n",
       "      <td>724</td>\n",
       "      <td>181.0</td>\n",
       "      <td>NaN</td>\n",
       "      <td>Statistical Learning Theory</td>\n",
       "      <td>Безопасность компьютерных систем</td>\n",
       "      <td>Моделирование временных рядов</td>\n",
       "      <td>Численные методы</td>\n",
       "      <td>Промышленное программирование на языке Java</td>\n",
       "      <td>Машинное обучение 2</td>\n",
       "      <td>Да</td>\n",
       "      <td>0.103139</td>\n",
       "      <td>NaN</td>\n",
       "      <td>NaN</td>\n",
       "      <td>NaN</td>\n",
       "    </tr>\n",
       "    <tr>\n",
       "      <th>7</th>\n",
       "      <td>2020-05-15 12:11:43.252</td>\n",
       "      <td>8047c18b3c531c6f47931e0744f3e028</td>\n",
       "      <td>566</td>\n",
       "      <td>187.0</td>\n",
       "      <td>NaN</td>\n",
       "      <td>Язык SQL</td>\n",
       "      <td>Теория баз данных</td>\n",
       "      <td>Безопасность компьютерных систем</td>\n",
       "      <td>Промышленное программирование на языке Java</td>\n",
       "      <td>Компьютерные сети</td>\n",
       "      <td>Дискретная оптимизация</td>\n",
       "      <td>Да</td>\n",
       "      <td>0.802691</td>\n",
       "      <td>NaN</td>\n",
       "      <td>NaN</td>\n",
       "      <td>NaN</td>\n",
       "    </tr>\n",
       "    <tr>\n",
       "      <th>8</th>\n",
       "      <td>2020-05-15 13:21:40.913</td>\n",
       "      <td>e8b314842f176be9051d14a07cb156cb</td>\n",
       "      <td>618</td>\n",
       "      <td>181.0</td>\n",
       "      <td>NaN</td>\n",
       "      <td>Язык SQL</td>\n",
       "      <td>Теория баз данных</td>\n",
       "      <td>Матричные вычисления</td>\n",
       "      <td>Промышленное программирование на языке Java</td>\n",
       "      <td>Компьютерные сети</td>\n",
       "      <td>Дискретная оптимизация</td>\n",
       "      <td>Да</td>\n",
       "      <td>0.565022</td>\n",
       "      <td>NaN</td>\n",
       "      <td>NaN</td>\n",
       "      <td>NaN</td>\n",
       "    </tr>\n",
       "    <tr>\n",
       "      <th>9</th>\n",
       "      <td>2020-05-15 13:29:10.789</td>\n",
       "      <td>d6c079f1ff869c8c84fa3ed30bd67e0e</td>\n",
       "      <td>733</td>\n",
       "      <td>181.0</td>\n",
       "      <td>NaN</td>\n",
       "      <td>Теория баз данных</td>\n",
       "      <td>Высокопроизводительные вычисления</td>\n",
       "      <td>Сбор и обработка данных с помощью краудсорсинга</td>\n",
       "      <td>Дополнительные главы прикладной статистики</td>\n",
       "      <td>Анализ данных в бизнесе</td>\n",
       "      <td>Численные методы</td>\n",
       "      <td>Да</td>\n",
       "      <td>0.085202</td>\n",
       "      <td>NaN</td>\n",
       "      <td>NaN</td>\n",
       "      <td>1.0</td>\n",
       "    </tr>\n",
       "  </tbody>\n",
       "</table>\n",
       "</div>"
      ],
      "text/plain": [
       "                timestamp                                id  rating  18_group  \\\n",
       "0 2020-05-15 01:12:50.543  93ff79a51cd602f1dd3028ba2c129503     698     181.0   \n",
       "1 2020-05-15 02:46:48.066  26b01b1c4cd5656bab18d24c548834fb     647     181.0   \n",
       "2 2020-05-15 03:12:41.480  30f3653fc176d54e89ac3179c455c6dd     624     185.0   \n",
       "3 2020-05-15 04:43:08.994  1528f0eaa027580820ccf0d92a53ad68     579     182.0   \n",
       "4 2020-05-15 07:47:17.197  496ea4f0d4abe264b1bb1b80eb3830c5     572     183.0   \n",
       "5 2020-05-15 09:10:18.558  d0d8ff53ed5b119f9056068e954256c6     591     187.0   \n",
       "6 2020-05-15 11:42:16.910  e4caca755ee0bdd711e18fb8084958b5     724     181.0   \n",
       "7 2020-05-15 12:11:43.252  8047c18b3c531c6f47931e0744f3e028     566     187.0   \n",
       "8 2020-05-15 13:21:40.913  e8b314842f176be9051d14a07cb156cb     618     181.0   \n",
       "9 2020-05-15 13:29:10.789  d6c079f1ff869c8c84fa3ed30bd67e0e     733     181.0   \n",
       "\n",
       "   is_mi                             fall_1  \\\n",
       "0    NaN                           Язык SQL   \n",
       "1    NaN  Высокопроизводительные вычисления   \n",
       "2    NaN   Безопасность компьютерных систем   \n",
       "3    NaN        Statistical Learning Theory   \n",
       "4    NaN  Высокопроизводительные вычисления   \n",
       "5    NaN                           Язык SQL   \n",
       "6    NaN        Statistical Learning Theory   \n",
       "7    NaN                           Язык SQL   \n",
       "8    NaN                           Язык SQL   \n",
       "9    NaN                  Теория баз данных   \n",
       "\n",
       "                              fall_2  \\\n",
       "0  Высокопроизводительные вычисления   \n",
       "1   Безопасность компьютерных систем   \n",
       "2               Матричные вычисления   \n",
       "3  Высокопроизводительные вычисления   \n",
       "4   Безопасность компьютерных систем   \n",
       "5        Statistical Learning Theory   \n",
       "6   Безопасность компьютерных систем   \n",
       "7                  Теория баз данных   \n",
       "8                  Теория баз данных   \n",
       "9  Высокопроизводительные вычисления   \n",
       "\n",
       "                                            fall_3  \\\n",
       "0                             Матричные вычисления   \n",
       "1                                         Язык SQL   \n",
       "2                    Моделирование временных рядов   \n",
       "3                             Матричные вычисления   \n",
       "4                                Теория баз данных   \n",
       "5  Сбор и обработка данных с помощью краудсорсинга   \n",
       "6                    Моделирование временных рядов   \n",
       "7                 Безопасность компьютерных систем   \n",
       "8                             Матричные вычисления   \n",
       "9  Сбор и обработка данных с помощью краудсорсинга   \n",
       "\n",
       "                                      spring_1  \\\n",
       "0                       Дискретная оптимизация   \n",
       "1                       Дискретная оптимизация   \n",
       "2                       Дискретная оптимизация   \n",
       "3                       Дискретная оптимизация   \n",
       "4                            Компьютерные сети   \n",
       "5  Промышленное программирование на языке Java   \n",
       "6                             Численные методы   \n",
       "7  Промышленное программирование на языке Java   \n",
       "8  Промышленное программирование на языке Java   \n",
       "9   Дополнительные главы прикладной статистики   \n",
       "\n",
       "                                      spring_2                spring_3  \\\n",
       "0                             Численные методы     Машинное обучение 2   \n",
       "1                             Численные методы     Машинное обучение 2   \n",
       "2                          Машинное обучение 2        Численные методы   \n",
       "3                             Численные методы     Машинное обучение 2   \n",
       "4                       Дискретная оптимизация        Численные методы   \n",
       "5                             Численные методы  Дискретная оптимизация   \n",
       "6  Промышленное программирование на языке Java     Машинное обучение 2   \n",
       "7                            Компьютерные сети  Дискретная оптимизация   \n",
       "8                            Компьютерные сети  Дискретная оптимизация   \n",
       "9                      Анализ данных в бизнесе        Численные методы   \n",
       "\n",
       "  is_first_time  percentile  17_group blended  is_ml_student  \n",
       "0            Да    0.183857       NaN     NaN            NaN  \n",
       "1           Нет    0.426009       NaN     NaN            NaN  \n",
       "2            Да    0.538117       NaN     NaN            NaN  \n",
       "3            Да    0.744395       NaN     NaN            NaN  \n",
       "4            Да    0.780269       NaN     NaN            NaN  \n",
       "5            Да    0.690583       NaN     NaN            NaN  \n",
       "6            Да    0.103139       NaN     NaN            NaN  \n",
       "7            Да    0.802691       NaN     NaN            NaN  \n",
       "8            Да    0.565022       NaN     NaN            NaN  \n",
       "9            Да    0.085202       NaN     NaN            1.0  "
      ]
     },
     "execution_count": 234,
     "metadata": {},
     "output_type": "execute_result"
    }
   ],
   "source": [
    "# your code\n",
    "data = pd.read_excel('end_seminar.xlsx')\n",
    "data.head(10)"
   ]
  },
  {
   "cell_type": "markdown",
   "metadata": {
    "id": "jPiMwyqHhLuy"
   },
   "source": [
    "#### 2. [0.5 балла] Есть ли в данных пропуски? В каких колонках? Сколько их в каждой из этих колонок?"
   ]
  },
  {
   "cell_type": "code",
   "execution_count": 235,
   "metadata": {
    "id": "edY1RrSOhLuy"
   },
   "outputs": [
    {
     "data": {
      "text/plain": [
       "timestamp          0\n",
       "id                 0\n",
       "rating             0\n",
       "18_group         138\n",
       "is_mi            343\n",
       "fall_1             0\n",
       "fall_2             0\n",
       "fall_3             0\n",
       "spring_1           0\n",
       "spring_2           0\n",
       "spring_3           0\n",
       "is_first_time      2\n",
       "percentile         0\n",
       "17_group         223\n",
       "blended          223\n",
       "is_ml_student    304\n",
       "dtype: int64"
      ]
     },
     "execution_count": 235,
     "metadata": {},
     "output_type": "execute_result"
    }
   ],
   "source": [
    "# your code\n",
    "data.isna().sum()"
   ]
  },
  {
   "cell_type": "markdown",
   "metadata": {
    "id": "B5ORhP2uhLuz"
   },
   "source": [
    "Заполните пропуски пустой строкой для строковых колонок и нулём для числовых (постарайтесь избежать перечисления названий всех столбцов)."
   ]
  },
  {
   "cell_type": "code",
   "execution_count": 236,
   "metadata": {
    "id": "TlF_JJ2ghLuz"
   },
   "outputs": [
    {
     "data": {
      "text/plain": [
       "timestamp        datetime64[ns]\n",
       "id                       object\n",
       "rating                    int64\n",
       "18_group                float64\n",
       "is_mi                   float64\n",
       "fall_1                   object\n",
       "fall_2                   object\n",
       "fall_3                   object\n",
       "spring_1                 object\n",
       "spring_2                 object\n",
       "spring_3                 object\n",
       "is_first_time            object\n",
       "percentile              float64\n",
       "17_group                float64\n",
       "blended                  object\n",
       "is_ml_student           float64\n",
       "dtype: object"
      ]
     },
     "execution_count": 236,
     "metadata": {},
     "output_type": "execute_result"
    }
   ],
   "source": [
    "# your code\n",
    "data.dtypes"
   ]
  },
  {
   "cell_type": "code",
   "execution_count": 237,
   "metadata": {},
   "outputs": [
    {
     "data": {
      "text/plain": [
       "timestamp        0\n",
       "id               0\n",
       "rating           0\n",
       "18_group         0\n",
       "is_mi            0\n",
       "fall_1           0\n",
       "fall_2           0\n",
       "fall_3           0\n",
       "spring_1         0\n",
       "spring_2         0\n",
       "spring_3         0\n",
       "is_first_time    0\n",
       "percentile       0\n",
       "17_group         0\n",
       "blended          0\n",
       "is_ml_student    0\n",
       "dtype: int64"
      ]
     },
     "execution_count": 237,
     "metadata": {},
     "output_type": "execute_result"
    }
   ],
   "source": [
    "# select numeric columns\n",
    "numeric_cols = data.select_dtypes(include=['int64', 'float64']).columns\n",
    "\n",
    "# select string columns\n",
    "string_cols = data.select_dtypes(include='object').columns\n",
    "\n",
    "data[numeric_cols] = data[numeric_cols].fillna(0)\n",
    "data[string_cols] = data[string_cols].fillna('')\n",
    "\n",
    "data.isna().sum()"
   ]
  },
  {
   "cell_type": "markdown",
   "metadata": {
    "id": "w5ELhkT1hLuz"
   },
   "source": [
    "#### 3. [0.5 балла] Посмотрите повнимательнее на колонку 'is_first_time'. \n",
    "\n",
    "Есть ли в ней ответы \"Нет\"? Сколько их?\n",
    "\n",
    "Если вы найдете повторные обращения студентов, оставьте только самую позднюю версию. В дальнейших заданиях используйте версию данных без повторов.\n",
    "\n",
    "<i>Обращения со значением \"Нет\" в 'is_first_time' могут быть как повторными, так и первичными, поскольку поле заполняли сами студенты.</i>"
   ]
  },
  {
   "cell_type": "code",
   "execution_count": 238,
   "metadata": {},
   "outputs": [
    {
     "data": {
      "text/plain": [
       "(361, 16)"
      ]
     },
     "execution_count": 238,
     "metadata": {},
     "output_type": "execute_result"
    }
   ],
   "source": [
    "data.shape"
   ]
  },
  {
   "cell_type": "code",
   "execution_count": 239,
   "metadata": {
    "id": "VEfiNsyQhLuz"
   },
   "outputs": [
    {
     "name": "stdout",
     "output_type": "stream",
     "text": [
      "amount of \"NO\", but student could be not unique: 51\n",
      "amount of unique students: 347\n"
     ]
    }
   ],
   "source": [
    "# find amount of \"NO\", but student could be not unique\n",
    "print('amount of \"NO\", but student could be not unique:', data[data['is_first_time'] == \"Нет\"].shape[0])\n",
    "\n",
    "# find not unique, sort by timestamp and leave only the last one\n",
    "data = data.sort_values('timestamp')\n",
    "data = data.drop_duplicates(subset=['id'], keep='last')\n",
    "print('amount of unique students:', data.shape[0])"
   ]
  },
  {
   "cell_type": "markdown",
   "metadata": {
    "id": "Jhk3tVpVhLuy"
   },
   "source": [
    "#### 4. [0.5 балла] Ответьте на вопросы:\n",
    "1. Сколько было заявок из групп 18-го года набора, а сколько из групп 17-го года?\n",
    "2. Есть ли студенты с равными перцентилями (среди объединенных данных, ведь конкурс на каждый курс общий)?"
   ]
  },
  {
   "cell_type": "code",
   "execution_count": 240,
   "metadata": {
    "id": "bsn4vn8RhLuy"
   },
   "outputs": [
    {
     "name": "stdout",
     "output_type": "stream",
     "text": [
      "18 group: 213\n",
      "17 group: 134\n"
     ]
    }
   ],
   "source": [
    "print(\"18 group:\", data[data['17_group'] == 0].shape[0])\n",
    "print(\"17 group:\", data[data['18_group'] == 0].shape[0])"
   ]
  },
  {
   "cell_type": "code",
   "execution_count": 241,
   "metadata": {},
   "outputs": [
    {
     "data": {
      "text/html": [
       "<div>\n",
       "<style scoped>\n",
       "    .dataframe tbody tr th:only-of-type {\n",
       "        vertical-align: middle;\n",
       "    }\n",
       "\n",
       "    .dataframe tbody tr th {\n",
       "        vertical-align: top;\n",
       "    }\n",
       "\n",
       "    .dataframe thead th {\n",
       "        text-align: right;\n",
       "    }\n",
       "</style>\n",
       "<table border=\"1\" class=\"dataframe\">\n",
       "  <thead>\n",
       "    <tr style=\"text-align: right;\">\n",
       "      <th></th>\n",
       "      <th>timestamp</th>\n",
       "      <th>id</th>\n",
       "      <th>rating</th>\n",
       "      <th>18_group</th>\n",
       "      <th>is_mi</th>\n",
       "      <th>fall_1</th>\n",
       "      <th>fall_2</th>\n",
       "      <th>fall_3</th>\n",
       "      <th>spring_1</th>\n",
       "      <th>spring_2</th>\n",
       "      <th>spring_3</th>\n",
       "      <th>is_first_time</th>\n",
       "      <th>percentile</th>\n",
       "      <th>17_group</th>\n",
       "      <th>blended</th>\n",
       "      <th>is_ml_student</th>\n",
       "    </tr>\n",
       "  </thead>\n",
       "  <tbody>\n",
       "    <tr>\n",
       "      <th>231</th>\n",
       "      <td>2020-05-14 21:52:43.844</td>\n",
       "      <td>3a7326c9e355a67d3805824ca34c4bc5</td>\n",
       "      <td>1457</td>\n",
       "      <td>0.0</td>\n",
       "      <td>0.0</td>\n",
       "      <td>Statistical Learning Theory</td>\n",
       "      <td>Высокопроизводительные вычисления</td>\n",
       "      <td>Statistical Learning Theory</td>\n",
       "      <td>Символьные вычисления</td>\n",
       "      <td>Численные методы</td>\n",
       "      <td>Символьные вычисления</td>\n",
       "      <td>Да</td>\n",
       "      <td>0.0</td>\n",
       "      <td>173.0</td>\n",
       "      <td>Введение в дифференциальную геометрию</td>\n",
       "      <td>0.0</td>\n",
       "    </tr>\n",
       "    <tr>\n",
       "      <th>80</th>\n",
       "      <td>2020-05-18 17:09:23.589</td>\n",
       "      <td>3e106aaef8b24dbb01319c73e14c2936</td>\n",
       "      <td>784</td>\n",
       "      <td>182.0</td>\n",
       "      <td>0.0</td>\n",
       "      <td>Безопасность компьютерных систем</td>\n",
       "      <td>Statistical Learning Theory</td>\n",
       "      <td>Матричные вычисления</td>\n",
       "      <td>Дискретная оптимизация</td>\n",
       "      <td>Промышленное программирование на языке Java</td>\n",
       "      <td>Дополнительные главы прикладной статистики</td>\n",
       "      <td>Да</td>\n",
       "      <td>0.0</td>\n",
       "      <td>0.0</td>\n",
       "      <td></td>\n",
       "      <td>1.0</td>\n",
       "    </tr>\n",
       "  </tbody>\n",
       "</table>\n",
       "</div>"
      ],
      "text/plain": [
       "                  timestamp                                id  rating  \\\n",
       "231 2020-05-14 21:52:43.844  3a7326c9e355a67d3805824ca34c4bc5    1457   \n",
       "80  2020-05-18 17:09:23.589  3e106aaef8b24dbb01319c73e14c2936     784   \n",
       "\n",
       "     18_group  is_mi                            fall_1  \\\n",
       "231       0.0    0.0       Statistical Learning Theory   \n",
       "80      182.0    0.0  Безопасность компьютерных систем   \n",
       "\n",
       "                                fall_2                       fall_3  \\\n",
       "231  Высокопроизводительные вычисления  Statistical Learning Theory   \n",
       "80         Statistical Learning Theory         Матричные вычисления   \n",
       "\n",
       "                   spring_1                                     spring_2  \\\n",
       "231   Символьные вычисления                             Численные методы   \n",
       "80   Дискретная оптимизация  Промышленное программирование на языке Java   \n",
       "\n",
       "                                       spring_3 is_first_time  percentile  \\\n",
       "231                       Символьные вычисления            Да         0.0   \n",
       "80   Дополнительные главы прикладной статистики            Да         0.0   \n",
       "\n",
       "     17_group                                blended  is_ml_student  \n",
       "231     173.0  Введение в дифференциальную геометрию            0.0  \n",
       "80        0.0                                                   1.0  "
      ]
     },
     "execution_count": 241,
     "metadata": {},
     "output_type": "execute_result"
    }
   ],
   "source": [
    "data[data['percentile'].duplicated(keep=False)]"
   ]
  },
  {
   "cell_type": "markdown",
   "metadata": {},
   "source": [
    "видим, что есть два студента с одинаковыми перцентилями "
   ]
  },
  {
   "cell_type": "markdown",
   "metadata": {
    "id": "IlzHp3HVhLuz"
   },
   "source": [
    "#### 5. [0.5 балла] Какие  blended-курсы для четверокурсников существуют? На какой blended-курс записалось наибольшее количество студентов? На каком из blended-курсов собрались студенты с самым высоким средним рейтингом (выведите этот курс и количество студентов на нем)? "
   ]
  },
  {
   "cell_type": "code",
   "execution_count": 242,
   "metadata": {
    "id": "j_BRWerHhLu0"
   },
   "outputs": [
    {
     "data": {
      "text/plain": [
       "Series([], dtype: int64)"
      ]
     },
     "execution_count": 242,
     "metadata": {},
     "output_type": "execute_result"
    }
   ],
   "source": [
    "# your code\n",
    "data[(data['blended'].empty) & (data['17_group'] == 0)].value_counts()"
   ]
  },
  {
   "cell_type": "markdown",
   "metadata": {},
   "source": [
    "Убедились, что у 3 курсников нет blended курсов в табличке"
   ]
  },
  {
   "cell_type": "code",
   "execution_count": 243,
   "metadata": {},
   "outputs": [
    {
     "data": {
      "text/plain": [
       "DevOps                                   87\n",
       "Соревновательный анализ данных           32\n",
       "Введение в дифференциальную геометрию    15\n",
       "Name: blended, dtype: int64"
      ]
     },
     "execution_count": 243,
     "metadata": {},
     "output_type": "execute_result"
    }
   ],
   "source": [
    "data[data['blended'] != '']['blended'].value_counts()"
   ]
  },
  {
   "cell_type": "markdown",
   "metadata": {},
   "source": [
    "Существует 3 курса: DevOps, Соревновательный анализ данных, Введение в дифференциальную геометрию\n",
    "Больше всего человек записалось на DevOps"
   ]
  },
  {
   "cell_type": "code",
   "execution_count": 244,
   "metadata": {},
   "outputs": [
    {
     "data": {
      "text/plain": [
       "blended\n",
       "DevOps                                   1154.172414\n",
       "Введение в дифференциальную геометрию    1210.733333\n",
       "Соревновательный анализ данных           1144.218750\n",
       "Name: rating, dtype: float64"
      ]
     },
     "execution_count": 244,
     "metadata": {},
     "output_type": "execute_result"
    }
   ],
   "source": [
    "data[data['blended'] != ''].groupby('blended')['rating'].mean()"
   ]
  },
  {
   "cell_type": "markdown",
   "metadata": {},
   "source": [
    "Получили, что на курсе Введение в дифференциальную геометрию самый большой средний рейтинг. На него записано 15 человек, как видно выше"
   ]
  },
  {
   "cell_type": "markdown",
   "metadata": {
    "id": "IU_FLt8HhLu0"
   },
   "source": [
    "#### 6. [1 балл] Выясните, есть ли студенты с абсолютно одинаковыми предпочтениями по всем курсам.\n",
    "\n",
    "Для этого сформируйте таблицу, где для каждого возможного набора курсов посчитано количество студентов, выбравших такой набор, и оставьте только строки где это количество больше 1.\n",
    "\n",
    "В данном случае набор курсов задается упорядоченным множеством ('fall_1', 'fall_2', 'fall_3', 'spring_1', 'spring_2', 'spring_3', 'blended'). Элемент blended будет нулевым для 3-го курса."
   ]
  },
  {
   "cell_type": "code",
   "execution_count": 245,
   "metadata": {
    "id": "BBDlR1mFhLu0"
   },
   "outputs": [
    {
     "data": {
      "text/html": [
       "<div>\n",
       "<style scoped>\n",
       "    .dataframe tbody tr th:only-of-type {\n",
       "        vertical-align: middle;\n",
       "    }\n",
       "\n",
       "    .dataframe tbody tr th {\n",
       "        vertical-align: top;\n",
       "    }\n",
       "\n",
       "    .dataframe thead th {\n",
       "        text-align: right;\n",
       "    }\n",
       "</style>\n",
       "<table border=\"1\" class=\"dataframe\">\n",
       "  <thead>\n",
       "    <tr style=\"text-align: right;\">\n",
       "      <th></th>\n",
       "      <th>fall_1</th>\n",
       "      <th>fall_2</th>\n",
       "      <th>fall_3</th>\n",
       "      <th>spring_1</th>\n",
       "      <th>spring_2</th>\n",
       "      <th>spring_3</th>\n",
       "      <th>blended</th>\n",
       "      <th>amount_of_students</th>\n",
       "    </tr>\n",
       "  </thead>\n",
       "  <tbody>\n",
       "    <tr>\n",
       "      <th>0</th>\n",
       "      <td>Statistical Learning Theory</td>\n",
       "      <td>Анализ неструктурированных данных</td>\n",
       "      <td>Сбор и обработка данных с помощью краудсорсинга</td>\n",
       "      <td>Обучение с подкреплением</td>\n",
       "      <td>Конфликты и кооперация</td>\n",
       "      <td>Компьютерное зрение</td>\n",
       "      <td>DevOps</td>\n",
       "      <td>2</td>\n",
       "    </tr>\n",
       "    <tr>\n",
       "      <th>60</th>\n",
       "      <td>Байесовские методы машинного обучения</td>\n",
       "      <td>Анализ неструктурированных данных</td>\n",
       "      <td>Глубинное обучение в обработке звука</td>\n",
       "      <td>Обучение с подкреплением</td>\n",
       "      <td>Генеративные модели в машинном обучении</td>\n",
       "      <td>Компьютерное зрение</td>\n",
       "      <td>DevOps</td>\n",
       "      <td>2</td>\n",
       "    </tr>\n",
       "    <tr>\n",
       "      <th>62</th>\n",
       "      <td>Байесовские методы машинного обучения</td>\n",
       "      <td>Анализ неструктурированных данных</td>\n",
       "      <td>Сбор и обработка данных с помощью краудсорсинга</td>\n",
       "      <td>Обучение с подкреплением</td>\n",
       "      <td>Компьютерное зрение</td>\n",
       "      <td>Генеративные модели в машинном обучении</td>\n",
       "      <td>DevOps</td>\n",
       "      <td>2</td>\n",
       "    </tr>\n",
       "    <tr>\n",
       "      <th>72</th>\n",
       "      <td>Безопасность компьютерных систем</td>\n",
       "      <td>Statistical Learning Theory</td>\n",
       "      <td>Матричные вычисления</td>\n",
       "      <td>Дискретная оптимизация</td>\n",
       "      <td>Промышленное программирование на языке Java</td>\n",
       "      <td>Дополнительные главы прикладной статистики</td>\n",
       "      <td></td>\n",
       "      <td>3</td>\n",
       "    </tr>\n",
       "    <tr>\n",
       "      <th>84</th>\n",
       "      <td>Безопасность компьютерных систем</td>\n",
       "      <td>Высокопроизводительные вычисления</td>\n",
       "      <td>Анализ неструктурированных данных</td>\n",
       "      <td>Проектирование и разработка высоконагруженных ...</td>\n",
       "      <td>Методы сжатия и передачи медиаданных</td>\n",
       "      <td>Конфликты и кооперация</td>\n",
       "      <td>DevOps</td>\n",
       "      <td>2</td>\n",
       "    </tr>\n",
       "    <tr>\n",
       "      <th>102</th>\n",
       "      <td>Безопасность компьютерных систем</td>\n",
       "      <td>Высокопроизводительные вычисления</td>\n",
       "      <td>Язык SQL</td>\n",
       "      <td>Компьютерные сети</td>\n",
       "      <td>Промышленное программирование на языке Java</td>\n",
       "      <td>Дискретная оптимизация</td>\n",
       "      <td></td>\n",
       "      <td>3</td>\n",
       "    </tr>\n",
       "    <tr>\n",
       "      <th>105</th>\n",
       "      <td>Безопасность компьютерных систем</td>\n",
       "      <td>Высокопроизводительные вычисления</td>\n",
       "      <td>Язык SQL</td>\n",
       "      <td>Промышленное программирование на языке Java</td>\n",
       "      <td>Компьютерные сети</td>\n",
       "      <td>Системы баз данных</td>\n",
       "      <td></td>\n",
       "      <td>2</td>\n",
       "    </tr>\n",
       "    <tr>\n",
       "      <th>113</th>\n",
       "      <td>Безопасность компьютерных систем</td>\n",
       "      <td>Матричные вычисления</td>\n",
       "      <td>Моделирование временных рядов</td>\n",
       "      <td>Промышленное программирование на языке Java</td>\n",
       "      <td>Компьютерные сети</td>\n",
       "      <td>Дискретная оптимизация</td>\n",
       "      <td></td>\n",
       "      <td>2</td>\n",
       "    </tr>\n",
       "    <tr>\n",
       "      <th>137</th>\n",
       "      <td>Безопасность компьютерных систем</td>\n",
       "      <td>Сбор и обработка данных с помощью краудсорсинга</td>\n",
       "      <td>Матричные вычисления</td>\n",
       "      <td>Компьютерные сети</td>\n",
       "      <td>Промышленное программирование на языке Java</td>\n",
       "      <td>Анализ данных в бизнесе</td>\n",
       "      <td></td>\n",
       "      <td>2</td>\n",
       "    </tr>\n",
       "    <tr>\n",
       "      <th>155</th>\n",
       "      <td>Безопасность компьютерных систем</td>\n",
       "      <td>Теория баз данных</td>\n",
       "      <td>Язык SQL</td>\n",
       "      <td>Машинное обучение 2</td>\n",
       "      <td>Компьютерные сети</td>\n",
       "      <td>Промышленное программирование на языке Java</td>\n",
       "      <td></td>\n",
       "      <td>2</td>\n",
       "    </tr>\n",
       "    <tr>\n",
       "      <th>184</th>\n",
       "      <td>Высокопроизводительные вычисления</td>\n",
       "      <td>Безопасность компьютерных систем</td>\n",
       "      <td>Сбор и обработка данных с помощью краудсорсинга</td>\n",
       "      <td>Проектирование и разработка высоконагруженных ...</td>\n",
       "      <td>Методы сжатия и передачи медиаданных</td>\n",
       "      <td>Компьютерное зрение</td>\n",
       "      <td>DevOps</td>\n",
       "      <td>2</td>\n",
       "    </tr>\n",
       "    <tr>\n",
       "      <th>201</th>\n",
       "      <td>Высокопроизводительные вычисления</td>\n",
       "      <td>Сбор и обработка данных с помощью краудсорсинга</td>\n",
       "      <td>Моделирование временных рядов</td>\n",
       "      <td>Проектирование и разработка высоконагруженных ...</td>\n",
       "      <td>Методы сжатия и передачи медиаданных</td>\n",
       "      <td>Методы сжатия и передачи медиаданных</td>\n",
       "      <td>DevOps</td>\n",
       "      <td>2</td>\n",
       "    </tr>\n",
       "    <tr>\n",
       "      <th>244</th>\n",
       "      <td>Моделирование временных рядов</td>\n",
       "      <td>Сбор и обработка данных с помощью краудсорсинга</td>\n",
       "      <td>Безопасность компьютерных систем</td>\n",
       "      <td>Компьютерные сети</td>\n",
       "      <td>Дополнительные главы прикладной статистики</td>\n",
       "      <td>Системы баз данных</td>\n",
       "      <td></td>\n",
       "      <td>2</td>\n",
       "    </tr>\n",
       "    <tr>\n",
       "      <th>292</th>\n",
       "      <td>Сбор и обработка данных с помощью краудсорсинга</td>\n",
       "      <td>Язык SQL</td>\n",
       "      <td>Теория баз данных</td>\n",
       "      <td>Промышленное программирование на языке Java</td>\n",
       "      <td>Машинное обучение 2</td>\n",
       "      <td>Компьютерные сети</td>\n",
       "      <td></td>\n",
       "      <td>2</td>\n",
       "    </tr>\n",
       "    <tr>\n",
       "      <th>313</th>\n",
       "      <td>Язык SQL</td>\n",
       "      <td>Высокопроизводительные вычисления</td>\n",
       "      <td>Теория баз данных</td>\n",
       "      <td>Компьютерные сети</td>\n",
       "      <td>Промышленное программирование на языке Java</td>\n",
       "      <td>Дискретная оптимизация</td>\n",
       "      <td></td>\n",
       "      <td>2</td>\n",
       "    </tr>\n",
       "  </tbody>\n",
       "</table>\n",
       "</div>"
      ],
      "text/plain": [
       "                                              fall_1  \\\n",
       "0                        Statistical Learning Theory   \n",
       "60             Байесовские методы машинного обучения   \n",
       "62             Байесовские методы машинного обучения   \n",
       "72                  Безопасность компьютерных систем   \n",
       "84                  Безопасность компьютерных систем   \n",
       "102                 Безопасность компьютерных систем   \n",
       "105                 Безопасность компьютерных систем   \n",
       "113                 Безопасность компьютерных систем   \n",
       "137                 Безопасность компьютерных систем   \n",
       "155                 Безопасность компьютерных систем   \n",
       "184                Высокопроизводительные вычисления   \n",
       "201                Высокопроизводительные вычисления   \n",
       "244                    Моделирование временных рядов   \n",
       "292  Сбор и обработка данных с помощью краудсорсинга   \n",
       "313                                         Язык SQL   \n",
       "\n",
       "                                              fall_2  \\\n",
       "0                  Анализ неструктурированных данных   \n",
       "60                 Анализ неструктурированных данных   \n",
       "62                 Анализ неструктурированных данных   \n",
       "72                       Statistical Learning Theory   \n",
       "84                 Высокопроизводительные вычисления   \n",
       "102                Высокопроизводительные вычисления   \n",
       "105                Высокопроизводительные вычисления   \n",
       "113                             Матричные вычисления   \n",
       "137  Сбор и обработка данных с помощью краудсорсинга   \n",
       "155                                Теория баз данных   \n",
       "184                 Безопасность компьютерных систем   \n",
       "201  Сбор и обработка данных с помощью краудсорсинга   \n",
       "244  Сбор и обработка данных с помощью краудсорсинга   \n",
       "292                                         Язык SQL   \n",
       "313                Высокопроизводительные вычисления   \n",
       "\n",
       "                                              fall_3  \\\n",
       "0    Сбор и обработка данных с помощью краудсорсинга   \n",
       "60              Глубинное обучение в обработке звука   \n",
       "62   Сбор и обработка данных с помощью краудсорсинга   \n",
       "72                              Матричные вычисления   \n",
       "84                 Анализ неструктурированных данных   \n",
       "102                                         Язык SQL   \n",
       "105                                         Язык SQL   \n",
       "113                    Моделирование временных рядов   \n",
       "137                             Матричные вычисления   \n",
       "155                                         Язык SQL   \n",
       "184  Сбор и обработка данных с помощью краудсорсинга   \n",
       "201                    Моделирование временных рядов   \n",
       "244                 Безопасность компьютерных систем   \n",
       "292                                Теория баз данных   \n",
       "313                                Теория баз данных   \n",
       "\n",
       "                                              spring_1  \\\n",
       "0                             Обучение с подкреплением   \n",
       "60                            Обучение с подкреплением   \n",
       "62                            Обучение с подкреплением   \n",
       "72                              Дискретная оптимизация   \n",
       "84   Проектирование и разработка высоконагруженных ...   \n",
       "102                                  Компьютерные сети   \n",
       "105        Промышленное программирование на языке Java   \n",
       "113        Промышленное программирование на языке Java   \n",
       "137                                  Компьютерные сети   \n",
       "155                                Машинное обучение 2   \n",
       "184  Проектирование и разработка высоконагруженных ...   \n",
       "201  Проектирование и разработка высоконагруженных ...   \n",
       "244                                  Компьютерные сети   \n",
       "292        Промышленное программирование на языке Java   \n",
       "313                                  Компьютерные сети   \n",
       "\n",
       "                                        spring_2  \\\n",
       "0                         Конфликты и кооперация   \n",
       "60       Генеративные модели в машинном обучении   \n",
       "62                           Компьютерное зрение   \n",
       "72   Промышленное программирование на языке Java   \n",
       "84          Методы сжатия и передачи медиаданных   \n",
       "102  Промышленное программирование на языке Java   \n",
       "105                            Компьютерные сети   \n",
       "113                            Компьютерные сети   \n",
       "137  Промышленное программирование на языке Java   \n",
       "155                            Компьютерные сети   \n",
       "184         Методы сжатия и передачи медиаданных   \n",
       "201         Методы сжатия и передачи медиаданных   \n",
       "244   Дополнительные главы прикладной статистики   \n",
       "292                          Машинное обучение 2   \n",
       "313  Промышленное программирование на языке Java   \n",
       "\n",
       "                                        spring_3 blended  amount_of_students  \n",
       "0                            Компьютерное зрение  DevOps                   2  \n",
       "60                           Компьютерное зрение  DevOps                   2  \n",
       "62       Генеративные модели в машинном обучении  DevOps                   2  \n",
       "72    Дополнительные главы прикладной статистики                           3  \n",
       "84                        Конфликты и кооперация  DevOps                   2  \n",
       "102                       Дискретная оптимизация                           3  \n",
       "105                           Системы баз данных                           2  \n",
       "113                       Дискретная оптимизация                           2  \n",
       "137                      Анализ данных в бизнесе                           2  \n",
       "155  Промышленное программирование на языке Java                           2  \n",
       "184                          Компьютерное зрение  DevOps                   2  \n",
       "201         Методы сжатия и передачи медиаданных  DevOps                   2  \n",
       "244                           Системы баз данных                           2  \n",
       "292                            Компьютерные сети                           2  \n",
       "313                       Дискретная оптимизация                           2  "
      ]
     },
     "execution_count": 245,
     "metadata": {},
     "output_type": "execute_result"
    }
   ],
   "source": [
    "# your code\n",
    "\n",
    "course_list = ['fall_1', 'fall_2', 'fall_3', 'spring_1', 'spring_2', 'spring_3', 'blended']\n",
    "courses_to_amount = data.groupby(course_list)['id'].count().reset_index()\n",
    "courses_to_amount = courses_to_amount.rename(columns={'id': 'amount_of_students'})\n",
    "courses_to_amount = courses_to_amount[courses_to_amount['amount_of_students'] > 1]\n",
    "courses_to_amount"
   ]
  },
  {
   "cell_type": "markdown",
   "metadata": {},
   "source": [
    "видим, что такие студенты действительно есть"
   ]
  },
  {
   "cell_type": "markdown",
   "metadata": {
    "id": "spu3r3vchLu0"
   },
   "source": [
    "#### 7. [0.5 балла] Найдите курсы по выбору, на которые записывались как студенты 18-го года набора, так и студенты 17-го года."
   ]
  },
  {
   "cell_type": "code",
   "execution_count": 246,
   "metadata": {
    "id": "t21fWi8ShLu0"
   },
   "outputs": [
    {
     "data": {
      "text/plain": [
       "['Statistical Learning Theory',\n",
       " 'Безопасность компьютерных систем',\n",
       " 'Высокопроизводительные вычисления',\n",
       " 'Моделирование временных рядов',\n",
       " 'Принятие решений в условиях риска и неопределённости',\n",
       " 'Сбор и обработка данных с помощью краудсорсинга',\n",
       " 'Численные методы']"
      ]
     },
     "execution_count": 246,
     "metadata": {},
     "output_type": "execute_result"
    }
   ],
   "source": [
    "# your code\n",
    "year_18 = np.unique(data[data['17_group'] == 0][course_list[:-1]])\n",
    "year_17 = np.unique(data[data['18_group'] == 0][course_list]) # у них есть еще blended\n",
    "np.intersect1d(year_18, year_17).tolist()\n"
   ]
  },
  {
   "cell_type": "markdown",
   "metadata": {},
   "source": [
    "Получили курсы, на которые записывались студенты и 18 и 17 годов"
   ]
  },
  {
   "cell_type": "markdown",
   "metadata": {
    "id": "PYfX-Dr5hLu0"
   },
   "source": [
    "Методом исключения найдите курсы, которые предлагались только студентам 18-го года и только студентам 17-го года."
   ]
  },
  {
   "cell_type": "code",
   "execution_count": 247,
   "metadata": {
    "id": "G9SWBOpehLu1"
   },
   "outputs": [
    {
     "name": "stdout",
     "output_type": "stream",
     "text": [
      "Только 18 года набора: ['Анализ данных в бизнесе' 'Дискретная оптимизация'\n",
      " 'Дополнительные главы прикладной статистики' 'Компьютерные сети'\n",
      " 'Матричные вычисления' 'Машинное обучение 2'\n",
      " 'Промышленное программирование на языке Java' 'Системы баз данных'\n",
      " 'Теория баз данных' 'Язык SQL']\n",
      "Только 17 года набора: ['DevOps' 'Анализ неструктурированных данных'\n",
      " 'Байесовские методы машинного обучения'\n",
      " 'Введение в дифференциальную геометрию'\n",
      " 'Генеративные модели в машинном обучении'\n",
      " 'Глубинное обучение в обработке звука' 'Компьютерное зрение'\n",
      " 'Конфликты и кооперация' 'Методы сжатия и передачи медиаданных'\n",
      " 'Обучение с подкреплением'\n",
      " 'Проектирование и разработка высоконагруженных сервисов'\n",
      " 'Символьные вычисления' 'Соревновательный анализ данных']\n"
     ]
    }
   ],
   "source": [
    "print(\"Только 18 года набора:\", np.setdiff1d(year_18, year_17))\n",
    "print(\"Только 17 года набора:\", np.setdiff1d(year_17, year_18))"
   ]
  },
  {
   "cell_type": "markdown",
   "metadata": {
    "id": "uL45Tg5fhLu1"
   },
   "source": [
    "### Визуализации и matplotlib"
   ]
  },
  {
   "cell_type": "markdown",
   "metadata": {
    "id": "MY9lKmP2hLu1"
   },
   "source": [
    "При работе с данными часто неудобно делать какие-то выводы, если смотреть на таблицу и числа в частности, поэтому важно уметь визуализировать данные. Здесь будут описаны ключевые правила оформления графиков для **всех** домашних заданий.\n",
    "\n",
    "У matplotlib, конечно же, есть [документация](https://matplotlib.org/users/index.html) с большим количеством [примеров](https://matplotlib.org/examples/), но для начала достаточно знать про несколько основных типов графиков:\n",
    "- plot — обычный поточечный график, которым можно изображать кривые или отдельные точки;\n",
    "- hist — гистограмма, показывающая распределение некоторой величины;\n",
    "- scatter — график, показывающий взаимосвязь двух величин;\n",
    "- bar — столбцовый график, показывающий взаимосвязь количественной величины от категориальной.\n",
    "\n",
    "В этом задании вы попробуете построить один из них. Не забывайте про базовые принципы построения приличных графиков:\n",
    "- оси должны быть подписаны, причём не слишком мелко;\n",
    "- у графика должно быть название;\n",
    "- если изображено несколько графиков, то необходима поясняющая легенда;\n",
    "- все линии на графиках должны быть чётко видны (нет похожих цветов или цветов, сливающихся с фоном);\n",
    "- если отображена величина, имеющая очевидный диапазон значений (например, проценты могут быть от 0 до 100), то желательно масштабировать ось на весь диапазон значений (исключением является случай, когда вам необходимо показать малое отличие, которое незаметно в таких масштабах);\n",
    "- сетка на графике помогает оценить значения в точках на глаз, это обычно полезно, поэтому лучше ее отрисовывать;\n",
    "- если распределение на гистограмме имеет тяжёлые хвосты, лучше использовать логарифмическую шкалу.\n",
    "\n",
    "Еще одна билиотека для визуализации: [seaborn](https://jakevdp.github.io/PythonDataScienceHandbook/04.14-visualization-with-seaborn.html) (обычно сокращается до sns). Это настройка над matplotlib, иногда удобнее и красивее делать визуализации через неё. \n",
    "\n",
    "**5 пунктов после которых ваши графики не будут прежними:**\n",
    "- для красивой картинки <code>%config InlineBackend.figure_format = 'retina'</code>\n",
    "- задаем размер (почти) всех графиков (можно выбрать другие значения) <code>plt.rcParams['figure.figsize'] = 8, 5</code>\n",
    "- размер шрифта подписей графиков <code>plt.rcParams['font.size'] = 12</code>\n",
    "- формат в котором сохраняется изображение <code>mpl.rcParams['savefig.format'] = 'pdf'</code>\n",
    "- sns – seaborn, добавляет решетку <code>sns.set_style('darkgrid')</code>\n",
    "\n",
    "Добавьте эти функции в ячейку ниже. Каждый график все равно придется настраивать отдельно, но указанные строчки позволят значительно упростить процесс.  "
   ]
  },
  {
   "cell_type": "code",
   "execution_count": 2,
   "metadata": {
    "id": "na9doUOFhLu1"
   },
   "outputs": [],
   "source": [
    "%matplotlib inline\n",
    "import matplotlib.pyplot as plt\n",
    "import seaborn as sns\n",
    "\n",
    "%config InlineBackend.figure_format = 'retina'\n",
    "plt.rcParams['figure.figsize'] = 10, 5\n",
    "plt.rcParams['font.size'] = 12\n",
    "mpl.rcParams['savefig.format'] = 'pdf'\n",
    "sns.set_style('darkgrid')\n"
   ]
  },
  {
   "cell_type": "markdown",
   "metadata": {
    "id": "kikwLpxfhLu1"
   },
   "source": [
    "#### 8. [0.5 балла] Постройте график средних рейтингов по дням получения ответов (bar plot)."
   ]
  },
  {
   "cell_type": "code",
   "execution_count": 3,
   "metadata": {
    "id": "UTPLVeQvhLu2"
   },
   "outputs": [
    {
     "ename": "NameError",
     "evalue": "name 'data' is not defined",
     "output_type": "error",
     "traceback": [
      "\u001b[0;31m---------------------------------------------------------------------------\u001b[0m",
      "\u001b[0;31mNameError\u001b[0m                                 Traceback (most recent call last)",
      "\u001b[0;32m/var/folders/6b/n6djlkm91wx6syhdd6v7ngp00000gn/T/ipykernel_13402/2576646052.py\u001b[0m in \u001b[0;36m<module>\u001b[0;34m\u001b[0m\n\u001b[0;32m----> 1\u001b[0;31m \u001b[0mchart\u001b[0m \u001b[0;34m=\u001b[0m \u001b[0mdata\u001b[0m\u001b[0;34m.\u001b[0m\u001b[0mgroupby\u001b[0m\u001b[0;34m(\u001b[0m\u001b[0mdata\u001b[0m\u001b[0;34m[\u001b[0m\u001b[0;34m'timestamp'\u001b[0m\u001b[0;34m]\u001b[0m\u001b[0;34m.\u001b[0m\u001b[0mdt\u001b[0m\u001b[0;34m.\u001b[0m\u001b[0mdate\u001b[0m\u001b[0;34m)\u001b[0m\u001b[0;34m[\u001b[0m\u001b[0;34m'rating'\u001b[0m\u001b[0;34m]\u001b[0m\u001b[0;34m.\u001b[0m\u001b[0mmean\u001b[0m\u001b[0;34m(\u001b[0m\u001b[0;34m)\u001b[0m\u001b[0;34m\u001b[0m\u001b[0;34m\u001b[0m\u001b[0m\n\u001b[0m\u001b[1;32m      2\u001b[0m \u001b[0mplt\u001b[0m\u001b[0;34m.\u001b[0m\u001b[0mxticks\u001b[0m\u001b[0;34m(\u001b[0m\u001b[0mrotation\u001b[0m\u001b[0;34m=\u001b[0m\u001b[0;36m45\u001b[0m\u001b[0;34m)\u001b[0m\u001b[0;34m\u001b[0m\u001b[0;34m\u001b[0m\u001b[0m\n\u001b[1;32m      3\u001b[0m \u001b[0mbarplot\u001b[0m \u001b[0;34m=\u001b[0m \u001b[0msns\u001b[0m\u001b[0;34m.\u001b[0m\u001b[0mbarplot\u001b[0m\u001b[0;34m(\u001b[0m\u001b[0mdata\u001b[0m\u001b[0;34m=\u001b[0m\u001b[0mchart\u001b[0m\u001b[0;34m.\u001b[0m\u001b[0mreset_index\u001b[0m\u001b[0;34m(\u001b[0m\u001b[0;34m)\u001b[0m\u001b[0;34m,\u001b[0m \u001b[0mx\u001b[0m\u001b[0;34m=\u001b[0m\u001b[0;34m'timestamp'\u001b[0m\u001b[0;34m,\u001b[0m \u001b[0my\u001b[0m\u001b[0;34m=\u001b[0m\u001b[0;34m'rating'\u001b[0m\u001b[0;34m)\u001b[0m\u001b[0;34m.\u001b[0m\u001b[0mset\u001b[0m\u001b[0;34m(\u001b[0m\u001b[0mtitle\u001b[0m\u001b[0;34m=\u001b[0m\u001b[0;34m'Mean rating'\u001b[0m\u001b[0;34m)\u001b[0m\u001b[0;34m\u001b[0m\u001b[0;34m\u001b[0m\u001b[0m\n\u001b[1;32m      4\u001b[0m \u001b[0mplt\u001b[0m\u001b[0;34m.\u001b[0m\u001b[0mxlabel\u001b[0m\u001b[0;34m(\u001b[0m\u001b[0;34m'date'\u001b[0m\u001b[0;34m)\u001b[0m\u001b[0;34m\u001b[0m\u001b[0;34m\u001b[0m\u001b[0m\n\u001b[1;32m      5\u001b[0m \u001b[0mplt\u001b[0m\u001b[0;34m.\u001b[0m\u001b[0msavefig\u001b[0m\u001b[0;34m(\u001b[0m\u001b[0;34m'rating_date.pdf'\u001b[0m\u001b[0;34m)\u001b[0m\u001b[0;34m\u001b[0m\u001b[0;34m\u001b[0m\u001b[0m\n",
      "\u001b[0;31mNameError\u001b[0m: name 'data' is not defined"
     ]
    }
   ],
   "source": [
    "chart = data.groupby(data['timestamp'].dt.date)['rating'].mean()\n",
    "plt.xticks(rotation=45)\n",
    "barplot = sns.barplot(data=chart.reset_index(), x='timestamp', y='rating').set(title='Mean rating')\n",
    "plt.xlabel('date')\n",
    "plt.savefig('rating_date.pdf')"
   ]
  },
  {
   "cell_type": "markdown",
   "metadata": {},
   "source": [
    "Однако очевидно (на семинаре говорили), что рейтинговая сумма - это плохой показатель чего-либо. Получается, что у 4 курсников он всегда будет больше (в силу того что они прошли больше курсов). Поэтому справедливее все-таки строить график не по рейтингу, а по перцентилю. Ну, нарисуем его тоже:)"
   ]
  },
  {
   "cell_type": "code",
   "execution_count": 250,
   "metadata": {},
   "outputs": [
    {
     "data": {
      "image/png": "[encoded data removed]",
      "text/plain": [
       "<Figure size 1000x500 with 1 Axes>"
      ]
     },
     "metadata": {
      "image/png": {
       "height": 529,
       "width": 848
      }
     },
     "output_type": "display_data"
    }
   ],
   "source": [
    "chart = data.groupby(data['timestamp'].dt.date)['percentile'].mean()\n",
    "plt.xticks(rotation=45)\n",
    "barplot = sns.barplot(data=chart.reset_index(), x='timestamp', y='percentile').set(title='Mean percentile')\n",
    "plt.xlabel('date')\n",
    "plt.savefig('percentile_date.pdf')"
   ]
  },
  {
   "cell_type": "markdown",
   "metadata": {
    "id": "AmsQg9_xhLu2"
   },
   "source": [
    "Сохраните график в формате pdf (так он останется векторизованным)."
   ]
  },
  {
   "cell_type": "markdown",
   "metadata": {
    "id": "sCgWwjl0hLu2"
   },
   "source": [
    "### 2. Распределение студентов по курсам."
   ]
  },
  {
   "cell_type": "markdown",
   "metadata": {},
   "source": [
    "<span style=\"color:red\">!!!ВНИМАТЕЛЬНО ИЗУЧИТЕ ТЕКСТ НИЖЕ!!!</span>.\n",
    "\n",
    "<span style=\"color:orange\">Если во время выполнения заданий у вас вознинут вопросы -- еще раз перечитайте текст целиком, скорее всего ответы уже содержатся в нем.</span>"
   ]
  },
  {
   "cell_type": "markdown",
   "metadata": {
    "id": "VNqXUpr4hLu3"
   },
   "source": [
    "Теперь вам нужно распределить студентов по осенним курсам по выбору, учитывая их предпочтения."
   ]
  },
  {
   "cell_type": "markdown",
   "metadata": {
    "id": "5cAR2FgphLu3"
   },
   "source": [
    "Алгоритм распределения студентов по курсам:\n",
    "1. По умолчанию на каждой дисциплине по выбору у 3 и 4 курсов может учиться 1 группа (до 30 студентов). Исключения описаны ниже. На blended-дисциплинах для четверокурсников количество мест не ограничено.\n",
    "2. Проводится первая волна отбора. Для каждой дисциплины формируется список тех, кто указал её первым приоритетом (если студент должен выбрать два курса по выбору, то для него дисциплины, которые он указал первым и вторым приоритетом, рассматриваются как дисциплины первого приоритета). Если желающих больше, чем мест, то выбирается топ по перцентилю рейтинга.\n",
    "3. На дисциплинах, где остались места после первой волны, формируются списки тех, кто выбрал их вторым приоритетом и еще не прошел на необходимое количество курсов. Места заполняются лучшими по перцентилю рейтинга студентами. После этого проводится такая же процедура для дисциплин третьего приоритета.\n",
    "4. Если студент не попал на необходимое количество курсов по итогам трёх волн, с ним связывается учебный офис и решает вопрос в индивидуальном порядке."
   ]
  },
  {
   "cell_type": "markdown",
   "metadata": {
    "id": "BiNKVwS6hLu3"
   },
   "source": [
    "Обращаем ваше внимание на следующие детали:\n",
    "- Конкурс на каждый курс общий для 3-го и 4-го курса\n",
    "\n",
    "- По умолчанию студент выбирает один осенний и один весенний курс по выбору, а также четверокурсники выбирают один blended-курс. Студенты групп 17-го года специализаций МОП и ТИ выбирают по 2 осенних и 2 весенних курса по выбору, также студенты групп 18' специализации МИ выбирают 2 осенних курса. <i>Для студентов, которые выбирают 2 курса (например, осенних) первый приоритет — <code>fall_1</code> и <code>fall_2</code>, второй приоритет — <code>fall_3</code>. Такие студенты участвуют только в двух волнах отбора</i>.\n",
    "\n",
    "- Студенты специализации МОП не могут выбрать весенним курсом по выбору Машинное обучение 2. **Если студент специализации МОП выбрал Машинное обучение 2, то его приоритеты сдвигаются.** Из-за совпадений первого и второго курса по выбору двигать приоритеты не надо.\n",
    "\n",
    "- Blended-курсы не трогайте, по ним не надо распределять, на другие курсы они никак не влияют.\n",
    "\n",
    "- Заведомо известно, что в процессе распределения не возникнет ситуации, когда на одно место претендуют студенты с одинаковым перцентилем.\n",
    "\n",
    "- Постарайтесь воздержаться от использования циклов там, где это возможно. <i>Допустимо итерироваться по <b>курсам</b>, на которые проводится отбор, и по <b>волнам</b> отбора. Если вы придумаете, как обойтись и без этих циклов, то на усмотрение проверяющего могут быть добавлены бонусные баллы. <b>Дублирование кода не признается успешным избавлением от циклов</b></i>\n",
    "\n",
    "- На выходе ожидается файл res_fall.csv с результатами распределения на осенние курсы по выбору. Файл должен быть следующего формата:\n",
    "\n",
    "    * Три колонки: ID, course1, course2\n",
    "    \n",
    "    * Если студент не попал на курс, но должен был, то вместо названия курса в ячейке должна быть строка \"???\"\n",
    "    \n",
    "    * Если студент должен выбрать только один курс, то в колонке course2 для него должна стоять строка \"-\"\n",
    "    \n",
    "    * Если студент должен выбрать два курса по выбору, то порядок в колонках course1 и course2 не важен.\n",
    "    \n",
    "    * hint: для сохранения воспользуйтесь df.to_csv('solution.csv', index=None)\n",
    "    \n",
    "\n",
    "Для работы вам могут понадобиться следующие данные:\n",
    "\n",
    "- Результаты опроса (вы уже использовали этот файл в первой части задания, но на всякий случай ссылка: https://www.dropbox.com/s/f4rm8sjc3v99p0m/_end_seminar.xlsx?dl=0)\n",
    "\n",
    "- Соответствие номеров групп специализациям:\n",
    "\n",
    "    * 171, 172 - МОП; 173 - ТИ; 174 — АДИС; 175, 176 — РС; 177 — АПР\n",
    "    \n",
    "    * У студентов 18-го года номера групп соответствуют номерам до распределения по специализациям. Это означает, что по номеру группы 18* нельзя однозначно определить специализацию студента. При этом в рамках распределения важно знать информацию только о двух из них: МОП и МИ. Эти знание можно получить из колонок 'is_ml_student\n",
    "' и 'is_mi' соответственно.\n",
    "\n",
    "- Ограничения по количеству мест на курсах по выбору:\n",
    "\n",
    "    * Осенние: везде 30 мест, кроме Statistical Learning Theory (60 мест), Высокопроизводительных вычислений (60 мест), Анализа неструктурированных данных ($\\infty$ мест)\n",
    "\n",
    "    * Весенние: везде 30 мест, кроме Обучения с подкреплением (60 мест), Анализа данных в бизнесе (60 мест).\n",
    "\n",
    "\n",
    "Кстати, убедитесь, что в данных больше нет пропусков и повторных записей."
   ]
  },
  {
   "cell_type": "markdown",
   "metadata": {
    "id": "BiNKVwS6hLu3"
   },
   "source": [
    "Обращаем ваше внимание на следующие детали:\n",
    "- Конкурс на каждый курс общий для 3-го и 4-го курса\n",
    "\n",
    "- По умолчанию студент выбирает один осенний и один весенний курс по выбору, а также четверокурсники выбирают один blended-курс. Студенты групп 17-го года специализаций МОП и ТИ выбирают по 2 осенних и 2 весенних курса по выбору, также студенты групп 18' специализации МИ выбирают 2 осенних курса. <i>Для студентов, которые выбирают 2 курса (например, осенних) первый приоритет — <code>fall_1</code> и <code>fall_2</code>, второй приоритет — <code>fall_3</code>. Такие студенты участвуют только в двух волнах отбора</i>.\n",
    "\n",
    "- Студенты специализации МОП не могут выбрать весенним курсом по выбору Машинное обучение 2. **Если студент специализации МОП выбрал Машинное обучение 2, то его приоритеты сдвигаются.** Из-за совпадений первого и второго курса по выбору двигать приоритеты не надо.\n",
    "\n",
    "- Blended-курсы не трогайте, по ним не надо распределять, на другие курсы они никак не влияют.\n",
    "\n",
    "- Заведомо известно, что в процессе распределения не возникнет ситуации, когда на одно место претендуют студенты с одинаковым перцентилем.\n",
    "\n",
    "- Постарайтесь воздержаться от использования циклов там, где это возможно. <i>Допустимо итерироваться по <b>курсам</b>, на которые проводится отбор, и по <b>волнам</b> отбора. Если вы придумаете, как обойтись и без этих циклов, то на усмотрение проверяющего могут быть добавлены бонусные баллы. <b>Дублирование кода не признается успешным избавлением от циклов</b></i>\n",
    "\n",
    "- На выходе ожидается файл res_fall.csv с результатами распределения на осенние курсы по выбору. Файл должен быть следующего формата:\n",
    "\n",
    "    * Три колонки: ID, course1, course2\n",
    "    \n",
    "    * Если студент не попал на курс, но должен был, то вместо названия курса в ячейке должна быть строка \"???\"\n",
    "    \n",
    "    * Если студент должен выбрать только один курс, то в колонке course2 для него должна стоять строка \"-\"\n",
    "    \n",
    "    * Если студент должен выбрать два курса по выбору, то порядок в колонках course1 и course2 не важен.\n",
    "    \n",
    "    * hint: для сохранения воспользуйтесь df.to_csv('solution.csv', index=None)\n",
    "    \n",
    "\n",
    "Для работы вам могут понадобиться следующие данные:\n",
    "\n",
    "- Результаты опроса (вы уже использовали этот файл в первой части задания, но на всякий случай ссылка: https://www.dropbox.com/s/f4rm8sjc3v99p0m/_end_seminar.xlsx?dl=0)\n",
    "\n",
    "- Соответствие номеров групп специализациям:\n",
    "\n",
    "    * 171, 172 - МОП; 173 - ТИ; 174 — АДИС; 175, 176 — РС; 177 — АПР\n",
    "    \n",
    "    * У студентов 18-го года номера групп соответствуют номерам до распределения по специализациям. Это означает, что по номеру группы 18* нельзя однозначно определить специализацию студента. При этом в рамках распределения важно знать информацию только о двух из них: МОП и МИ. Эти знание можно получить из колонок 'is_ml_student\n",
    "' и 'is_mi' соответственно.\n",
    "\n",
    "- Ограничения по количеству мест на курсах по выбору:\n",
    "\n",
    "    * Осенние: везде 30 мест, кроме Statistical Learning Theory (60 мест), Высокопроизводительных вычислений (60 мест), Анализа неструктурированных данных ($\\infty$ мест)\n",
    "\n",
    "    * Весенние: везде 30 мест, кроме Обучения с подкреплением (60 мест), Анализа данных в бизнесе (60 мест).\n",
    "\n",
    "\n",
    "Кстати, убедитесь, что в данных больше нет пропусков и повторных записей."
   ]
  },
  {
   "cell_type": "markdown",
   "metadata": {
    "id": "o5t55IcQhLu4"
   },
   "source": [
    "#### 0. Проверка\n",
    "\n",
    "Для начала давайте убедимся, что вы успешно выполнили задания первой части и проверим ваши данные на наличие пропусков и повторов:"
   ]
  },
  {
   "cell_type": "code",
   "execution_count": 251,
   "metadata": {
    "id": "34HWEdVdhLu4"
   },
   "outputs": [],
   "source": [
    "assert data.shape[0] == 347, 'В таблице остались повторы или потеряны данные'\n",
    "\n",
    "assert data.isna().sum().sum() == 0, 'В таблице остались пропуски'"
   ]
  },
  {
   "cell_type": "markdown",
   "metadata": {
    "id": "_ImUFyG3hLu4"
   },
   "source": [
    "Если вы не получили AssertionError, то можете продолжать."
   ]
  },
  {
   "cell_type": "markdown",
   "metadata": {
    "id": "LTGSwwvAhLu4"
   },
   "source": [
    "#### 1. [1 балл] Создайте новый признак, обозначающий, сколько осенних курсов должен выбрать студент\n",
    "\n",
    "В этом вам может помочь информация о специализации и группе стундента."
   ]
  },
  {
   "cell_type": "code",
   "execution_count": 252,
   "metadata": {
    "id": "ouxo0kHFhLu4"
   },
   "outputs": [],
   "source": [
    "# (￣^￣)ゞ\n",
    "mop_ti = [171, 172, 173]\n",
    "data[\"amount_of_courses\"] = np.where(\n",
    "    ((data['17_group'] == 0) & (data['is_mi'] == 1.0)) | \n",
    "    ((data['18_group'] == 0) & (data['17_group'].isin(mop_ti))),\n",
    "    2,\n",
    "    1\n",
    ")"
   ]
  },
  {
   "cell_type": "markdown",
   "metadata": {
    "id": "S47aq1sQhLu4"
   },
   "source": [
    "Проверка:"
   ]
  },
  {
   "cell_type": "code",
   "execution_count": 253,
   "metadata": {
    "id": "OlOgzDKDhLu5"
   },
   "outputs": [],
   "source": [
    "col_name = 'amount_of_courses'    # insert your new column name as str\n",
    "\n",
    "assert(data[data['id'] == '2662600c2c37e11e62f6ee0b88452f22'][col_name] == 2).all()\n",
    "assert(data[data['id'] == 'd555d2805e1d93d4f023e57dc4c8f403'][col_name] == 2).all()\n",
    "assert(data[data['id'] == '8fe79f84f36e3a5d2d6745621321302c'][col_name] == 1).all()\n",
    "assert(data[data['id'] == 'e4caca755ee0bdd711e18fb8084958b5'][col_name] == 1).all()"
   ]
  },
  {
   "cell_type": "markdown",
   "metadata": {
    "id": "VtQYhwuPhLu5"
   },
   "source": [
    "#### 2. [2 балла] Распределите студентов в соответствии с первым приоритетом"
   ]
  },
  {
   "cell_type": "code",
   "execution_count": 254,
   "metadata": {
    "id": "6gWfT3vqhLu5"
   },
   "outputs": [],
   "source": [
    "# сначала создадим два новых столбца, где будет результат отбора \n",
    "\n",
    "data['fall_1_result'] = '???'\n",
    "data['fall_2_result'] = np.where(data['amount_of_courses'] == 2, '???', '-')"
   ]
  },
  {
   "cell_type": "code",
   "execution_count": 255,
   "metadata": {},
   "outputs": [
    {
     "data": {
      "text/plain": [
       "{'Statistical Learning Theory': 60,\n",
       " 'Анализ неструктурированных данных': 666,\n",
       " 'Байесовские методы машинного обучения': 30,\n",
       " 'Безопасность компьютерных систем': 30,\n",
       " 'Высокопроизводительные вычисления': 60,\n",
       " 'Глубинное обучение в обработке звука': 30,\n",
       " 'Матричные вычисления': 30,\n",
       " 'Моделирование временных рядов': 30,\n",
       " 'Принятие решений в условиях риска и неопределённости': 30,\n",
       " 'Сбор и обработка данных с помощью краудсорсинга': 30,\n",
       " 'Теория баз данных': 30,\n",
       " 'Язык SQL': 30}"
      ]
     },
     "execution_count": 255,
     "metadata": {},
     "output_type": "execute_result"
    }
   ],
   "source": [
    "# сделаем мапу, где будет указано количество мест на все курсы \n",
    "\n",
    "course_to_places = dict()\n",
    "all_courses = np.unique(data[['fall_1', 'fall_2', 'fall_3']])\n",
    "for course in all_courses:\n",
    "    if course == 'Анализ неструктурированных данных':\n",
    "        course_to_places[course] = 666\n",
    "    elif course == 'Statistical Learning Theory' or course == 'Высокопроизводительные вычисления':\n",
    "        course_to_places[course] = 60\n",
    "    else:\n",
    "        course_to_places[course] = 30\n",
    "course_to_places"
   ]
  },
  {
   "cell_type": "code",
   "execution_count": 256,
   "metadata": {},
   "outputs": [],
   "source": [
    "for course in all_courses:\n",
    "    if course_to_places[course] == 0:\n",
    "        continue\n",
    "    # нашли всех претендентов на данный курс\n",
    "    potential = data[(data['fall_1_result'] == '???') |\n",
    "                              (data['fall_2_result'] == '???')]\n",
    "    \n",
    "    potential = potential.loc[((potential['amount_of_courses'] == 2) & \n",
    "                               ((potential['fall_1'] == course) | (potential['fall_2'] == course)))\n",
    "                              |\n",
    "                              ((potential['amount_of_courses'] == 1) & (potential['fall_1'] == course) &\n",
    "                              ((potential['fall_1_result'] == '???') | (potential['fall_2_result'] == '???')))].sort_values('percentile') \n",
    "    \n",
    "    top_students = potential.head(course_to_places[course])\n",
    "    \n",
    "    # распределяем столько студентов, сколько мест на курсе\n",
    "    condition_1 = (data['id'].isin(top_students['id']) & (data['fall_1_result'] == '???'))\n",
    "    \n",
    "    data['fall_1_result'] = np.where(condition_1, course, data['fall_1_result'])\n",
    "\n",
    "    # Учтем студентов, у которых два курса\n",
    "    condition_2 = (data['id'].isin(top_students['id']) & \n",
    "                   (data['fall_1_result'] != course) &\n",
    "                   (data['fall_2_result'] == '???') &\n",
    "                   (data['amount_of_courses'] == 2))\n",
    "\n",
    "    data['fall_2_result'] = np.where(condition_2, course, data['fall_2_result'])\n",
    "    \n",
    "    # распределили - значит места потратили \n",
    "    course_to_places[course] -= len(top_students)\n",
    "    \n",
    "    # индексы красивые хочеца\n",
    "    data.reset_index(drop=True, inplace=True)\n"
   ]
  },
  {
   "cell_type": "markdown",
   "metadata": {
    "id": "vc5zXP5hhLu5"
   },
   "source": [
    "<!-- Здесь для проверки приведена таблица, в которой есть 2 дополнительные колонки: -->\n",
    "    \n",
    "    1) is_first_place - является ли студент лучшим по перцентили хотя бы на одном из курсов, куда он был зачислен \n",
    "    (True / NaN)\n",
    "    \n",
    "    2) is_last_place  - является ли студент худшим по перцентили хотя бы на одном из курсов, куда он был зачислен (True / NaN)"
   ]
  },
  {
   "cell_type": "code",
   "execution_count": 257,
   "metadata": {},
   "outputs": [],
   "source": [
    "data['is_first_place'], data['is_last_place'] = np.nan, np.nan"
   ]
  },
  {
   "cell_type": "code",
   "execution_count": 258,
   "metadata": {},
   "outputs": [],
   "source": [
    "for course in all_courses:\n",
    "    all_on_this_course = data[(data['fall_1_result'] == course) | (data['fall_2_result'] == course)]\n",
    "    all_on_this_course = all_on_this_course.sort_values('percentile')\n",
    "    # Для 'is_first_place'\n",
    "    first_condition = (data['id'] == all_on_this_course.head(1)['id'].iloc[0])\n",
    "    data['is_first_place'] = np.where(first_condition, True, data['is_first_place'])\n",
    "\n",
    "    # Для 'is_last_place'\n",
    "    last_condition = (data['id'] == all_on_this_course.tail(1)['id'].iloc[0])\n",
    "    data['is_last_place'] = np.where(last_condition, True, data['is_last_place'])"
   ]
  },
  {
   "cell_type": "code",
   "execution_count": 259,
   "metadata": {
    "id": "uZTkGEq5hLu5"
   },
   "outputs": [],
   "source": [
    "!wget  -O '2_task_check.csv' -q 'https://www.dropbox.com/s/v8o2zzq3iz5gc9w/_2_task_check.csv?dl=0'\n",
    "check_df = pd.read_csv('2_task_check.csv')"
   ]
  },
  {
   "cell_type": "markdown",
   "metadata": {
    "id": "E_fbyB9qhLu5"
   },
   "source": [
    "После распределения студентов в соответствии с первым приоритетом добавьте в свой датафрейм аналогичные признаки и запустите проверку:"
   ]
  },
  {
   "cell_type": "code",
   "execution_count": 260,
   "metadata": {
    "id": "GOAzQeYehLu6"
   },
   "outputs": [],
   "source": [
    "fir_col_name = 'is_first_place'     # insert name of your new column with is_first_place as str\n",
    "last_col_name = 'is_last_place'   # insert name of your new column with is_last_place as str\n",
    "\n",
    "\n",
    "assert((data[data[fir_col_name].isna() == False][['id']].sort_values('id').reset_index(drop=True)\n",
    "        ==\n",
    "        check_df[check_df['is_first_place'].isna() == False][['id']].sort_values('id').reset_index(drop=True)\n",
    "       ).id.values).all()\n",
    "\n",
    "\n",
    "assert((data[data[last_col_name].isna() == False][['id']].sort_values('id').reset_index(drop=True)\n",
    "       == \n",
    "       check_df[check_df['is_last_place'].isna() == False][['id']].sort_values('id').reset_index(drop=True)\n",
    "      ).id.values).all()"
   ]
  },
  {
   "cell_type": "code",
   "execution_count": 261,
   "metadata": {},
   "outputs": [
    {
     "data": {
      "text/plain": [
       "{'Statistical Learning Theory': 27,\n",
       " 'Анализ неструктурированных данных': 618,\n",
       " 'Байесовские методы машинного обучения': 6,\n",
       " 'Безопасность компьютерных систем': 0,\n",
       " 'Высокопроизводительные вычисления': 16,\n",
       " 'Глубинное обучение в обработке звука': 7,\n",
       " 'Матричные вычисления': 15,\n",
       " 'Моделирование временных рядов': 0,\n",
       " 'Принятие решений в условиях риска и неопределённости': 22,\n",
       " 'Сбор и обработка данных с помощью краудсорсинга': 0,\n",
       " 'Теория баз данных': 16,\n",
       " 'Язык SQL': 1}"
      ]
     },
     "execution_count": 261,
     "metadata": {},
     "output_type": "execute_result"
    }
   ],
   "source": [
    "# осталось мест после первой волны\n",
    "course_to_places"
   ]
  },
  {
   "cell_type": "markdown",
   "metadata": {
    "id": "RO6DwNNFhLu6"
   },
   "source": [
    "#### 3. [3 балла] Проведите все три волны отбора студентов на курсы по выбору"
   ]
  },
  {
   "cell_type": "code",
   "execution_count": 262,
   "metadata": {},
   "outputs": [],
   "source": [
    "# вторая волна \n",
    "for course in all_courses:\n",
    "    if course_to_places[course] == 0:\n",
    "        continue\n",
    "    potential = data[(data['fall_1_result'] == '???') |\n",
    "                          (data['fall_2_result'] == '???')]\n",
    "    \n",
    "    potential = potential.loc[((potential['amount_of_courses'] == 2) & \n",
    "                               (potential['fall_3'] == course)\n",
    "                              )|\n",
    "                              ((potential['amount_of_courses'] == 1) & (data['fall_2'] == course))]\n",
    "\n",
    "    # учтем, что если уже распределили на этот курс, то нафиг его \n",
    "    potential = potential.loc[(potential['fall_1_result'] != course) &\n",
    "                                        (potential['fall_2_result'] != course)]\n",
    "    \n",
    "    potential = potential.sort_values('percentile') \n",
    "    # сортируем по рейтингу\n",
    "    top_students = potential.head(course_to_places[course])\n",
    "    \n",
    "    \n",
    "    condition_1 = (data['id'].isin(top_students['id']) & (data['fall_1_result'] == '???'))\n",
    "    \n",
    "    data['fall_1_result'] = np.where(condition_1, course, data['fall_1_result'])\n",
    "\n",
    "    # Учтем студентов, у которых два курса\n",
    "    condition_2 = (data['id'].isin(top_students['id']) & \n",
    "                   (data['fall_1_result'] != course) &\n",
    "                   (data['fall_2_result'] == '???') &\n",
    "                   (data['amount_of_courses'] == 2))\n",
    "\n",
    "    data['fall_2_result'] = np.where(condition_2, course, data['fall_2_result'])\n",
    "    \n",
    "    # распределили - значит места потратили \n",
    "    course_to_places[course] -= len(top_students)\n",
    "    \n",
    "    # индексы красивые хочеца\n",
    "    data.reset_index(drop=True, inplace=True)\n"
   ]
  },
  {
   "cell_type": "code",
   "execution_count": 263,
   "metadata": {},
   "outputs": [],
   "source": [
    "# третья волна\n",
    "for course in all_courses:\n",
    "    if course_to_places[course] == 0:\n",
    "        continue\n",
    "\n",
    "    potential = data[(data['fall_1_result'] == '???') |\n",
    "                          (data['fall_2_result'] == '???')]\n",
    "    \n",
    "    potential = potential.loc[(potential['amount_of_courses'] == 1) & (potential['fall_3'] == course)]\n",
    "    \n",
    "    # учтем, что если уже распределили на этот курс, то нафиг его \n",
    "    potential = potential.loc[(potential['fall_1_result'] != course) &\n",
    "                              (potential['fall_2_result'] != course)]\n",
    "\n",
    "    potential = potential.sort_values('percentile') \n",
    "    \n",
    "    # сортируем по рейтингу\n",
    "    top_students = potential.head(course_to_places[course])\n",
    "    \n",
    "    # распределяем столько студентов, сколько мест на курсе\n",
    "    condition_1 = (data['id'].isin(top_students['id']) & (data['fall_1_result'] == '???'))\n",
    "    \n",
    "    data['fall_1_result'] = np.where(condition_1, course, data['fall_1_result'])\n",
    "\n",
    "    # Учтем студентов, у которых два курса\n",
    "    condition_2 = (data['id'].isin(top_students['id']) & \n",
    "                   (data['fall_1_result'] != course) &\n",
    "                   (data['fall_2_result'] == '???') &\n",
    "                   (data['amount_of_courses'] == 2))\n",
    "\n",
    "    data['fall_2_result'] = np.where(condition_2, course, data['fall_2_result'])\n",
    "\n",
    "    # распределили - значит места потратили \n",
    "    course_to_places[course] -= len(top_students)\n",
    "    \n",
    "    # индексы красивые хочеца\n",
    "    data.reset_index(drop=True, inplace=True)"
   ]
  },
  {
   "cell_type": "code",
   "execution_count": 264,
   "metadata": {},
   "outputs": [],
   "source": [
    "data.rename(columns={'id': 'ID', 'fall_1_result': 'course1', 'fall_2_result': 'course2'}, inplace=True)\n",
    "data[['ID', 'course1', 'course2']].to_csv('res_fall.csv', index=None)"
   ]
  },
  {
   "cell_type": "markdown",
   "metadata": {
    "id": "1xQjV9BuhLu6"
   },
   "source": [
    "**Отправьте свой файл res_fall.csv в контест (https://contest.yandex.ru/contest/52663/problems/A/) и прикрепите/укажите ниже ваш никнейм и ссылку на успешную посылку.**"
   ]
  },
  {
   "cell_type": "markdown",
   "metadata": {},
   "source": [
    "Никнейм: Антон Нуждин\n",
    "\n",
    "Посылка: https://contest.yandex.ru/contest/52663/run-report/91279182/"
   ]
  },
  {
   "cell_type": "markdown",
   "metadata": {
    "id": "QRTbPrgbhLu6"
   },
   "source": [
    "*Дисклеймер:*\n",
    "\n",
    "Успешная посылка в контесте является **обязательным** условием получения полного балла за этот (и следующий) пункт. Если добиться успешной посылки не удастся, баллы будут выставляться на усмотрение проверяюшего. \n",
    "\n",
    "При этом ОК в контесте не гарантирует полный балл. Оценка всё равно может быть снижена в случае обнаружения неэффективностей или ошибок в коде. Если вы сдадите в AnyTask очевидно неработающий код или ноутбук без кода, но при этом в контест будет сдан корректный файл, то это будет расцениваться как плагиат."
   ]
  },
  {
   "cell_type": "markdown",
   "metadata": {
    "id": "1IkQa_gdhLu6"
   },
   "source": [
    "На всякий случай просим вас сдать вместе с ноутбуком файл res_fall.csv в anytask"
   ]
  },
  {
   "cell_type": "markdown",
   "metadata": {
    "id": "k8d711qGhLu7"
   },
   "source": [
    "**Дополнительное задание. [2 бонусных балла] Распределите таким же образом студентов еще и на весенние курсы по выбору.**\n",
    "\n",
    "Если ваш код был хорошо структурирован, то это не составит проблем. \n",
    "\n",
    "Если вы выполнили это задание, сдайте среди прочего файл res_spring.csv в таком же формате, как и res_fall.csv."
   ]
  },
  {
   "cell_type": "code",
   "execution_count": 265,
   "metadata": {
    "id": "hwmusOGThLu7"
   },
   "outputs": [],
   "source": [
    "# тут теперь выбирают по 2 курса только моп+ти\n",
    "mop_ti = [171, 172, 173]\n",
    "data[\"amount_of_courses\"] = np.where( \n",
    "    ((data['18_group'] == 0) & (data['17_group'].isin(mop_ti))),\n",
    "    2,\n",
    "    1\n",
    ")\n",
    "\n",
    "# нам уже пофиг че они там выбрали осенью. Уберем эти столбцы и красиво переименуем результаты отбора\n",
    "data = data.drop(['fall_1', 'fall_2', 'fall_3'], axis=1)\n",
    "data.rename(columns={'ID': 'id', 'course1': 'fall_course1', 'course2': 'fall_course_2'}, inplace=True)\n"
   ]
  },
  {
   "cell_type": "code",
   "execution_count": 266,
   "metadata": {},
   "outputs": [],
   "source": [
    "data['spring_1_result'] = '???'\n",
    "data['spring_2_result'] = np.where(data['amount_of_courses'] == 2, '???', '-')"
   ]
  },
  {
   "cell_type": "code",
   "execution_count": 267,
   "metadata": {},
   "outputs": [
    {
     "data": {
      "text/plain": [
       "array(['Анализ данных в бизнесе',\n",
       "       'Генеративные модели в машинном обучении',\n",
       "       'Дискретная оптимизация',\n",
       "       'Дополнительные главы прикладной статистики',\n",
       "       'Компьютерное зрение', 'Компьютерные сети',\n",
       "       'Конфликты и кооперация', 'Машинное обучение 2',\n",
       "       'Методы сжатия и передачи медиаданных', 'Обучение с подкреплением',\n",
       "       'Проектирование и разработка высоконагруженных сервисов',\n",
       "       'Промышленное программирование на языке Java',\n",
       "       'Символьные вычисления', 'Системы баз данных', 'Численные методы'],\n",
       "      dtype=object)"
      ]
     },
     "execution_count": 267,
     "metadata": {},
     "output_type": "execute_result"
    }
   ],
   "source": [
    "course_to_places = dict()\n",
    "all_courses = np.unique(data[['spring_1', 'spring_2', 'spring_3']])\n",
    "all_courses"
   ]
  },
  {
   "cell_type": "code",
   "execution_count": 268,
   "metadata": {},
   "outputs": [
    {
     "data": {
      "text/plain": [
       "{'Анализ данных в бизнесе': 60,\n",
       " 'Генеративные модели в машинном обучении': 30,\n",
       " 'Дискретная оптимизация': 30,\n",
       " 'Дополнительные главы прикладной статистики': 30,\n",
       " 'Компьютерное зрение': 30,\n",
       " 'Компьютерные сети': 30,\n",
       " 'Конфликты и кооперация': 30,\n",
       " 'Машинное обучение 2': 30,\n",
       " 'Методы сжатия и передачи медиаданных': 30,\n",
       " 'Обучение с подкреплением': 60,\n",
       " 'Проектирование и разработка высоконагруженных сервисов': 30,\n",
       " 'Промышленное программирование на языке Java': 30,\n",
       " 'Символьные вычисления': 30,\n",
       " 'Системы баз данных': 30,\n",
       " 'Численные методы': 30}"
      ]
     },
     "execution_count": 268,
     "metadata": {},
     "output_type": "execute_result"
    }
   ],
   "source": [
    "for course in all_courses:\n",
    "    if course == 'Обучение с подкреплением' or course == 'Анализ данных в бизнесе':\n",
    "        course_to_places[course] = 60\n",
    "    else:\n",
    "        course_to_places[course] = 30\n",
    "course_to_places"
   ]
  },
  {
   "cell_type": "code",
   "execution_count": 269,
   "metadata": {},
   "outputs": [
    {
     "data": {
      "text/html": [
       "<div>\n",
       "<style scoped>\n",
       "    .dataframe tbody tr th:only-of-type {\n",
       "        vertical-align: middle;\n",
       "    }\n",
       "\n",
       "    .dataframe tbody tr th {\n",
       "        vertical-align: top;\n",
       "    }\n",
       "\n",
       "    .dataframe thead th {\n",
       "        text-align: right;\n",
       "    }\n",
       "</style>\n",
       "<table border=\"1\" class=\"dataframe\">\n",
       "  <thead>\n",
       "    <tr style=\"text-align: right;\">\n",
       "      <th></th>\n",
       "      <th>timestamp</th>\n",
       "      <th>id</th>\n",
       "      <th>rating</th>\n",
       "      <th>18_group</th>\n",
       "      <th>is_mi</th>\n",
       "      <th>spring_1</th>\n",
       "      <th>spring_2</th>\n",
       "      <th>spring_3</th>\n",
       "      <th>is_first_time</th>\n",
       "      <th>percentile</th>\n",
       "      <th>17_group</th>\n",
       "      <th>blended</th>\n",
       "      <th>is_ml_student</th>\n",
       "      <th>amount_of_courses</th>\n",
       "      <th>fall_course1</th>\n",
       "      <th>fall_course_2</th>\n",
       "      <th>is_first_place</th>\n",
       "      <th>is_last_place</th>\n",
       "      <th>spring_1_result</th>\n",
       "      <th>spring_2_result</th>\n",
       "    </tr>\n",
       "  </thead>\n",
       "  <tbody>\n",
       "    <tr>\n",
       "      <th>40</th>\n",
       "      <td>2020-05-15 21:55:16.699</td>\n",
       "      <td>f0f6f3881894172a0f04e79b554b49e6</td>\n",
       "      <td>673</td>\n",
       "      <td>181.0</td>\n",
       "      <td>0.0</td>\n",
       "      <td>Машинное обучение 2</td>\n",
       "      <td>Численные методы</td>\n",
       "      <td>Дополнительные главы прикладной статистики</td>\n",
       "      <td>Да</td>\n",
       "      <td>0.300448</td>\n",
       "      <td>0.0</td>\n",
       "      <td></td>\n",
       "      <td>1.0</td>\n",
       "      <td>1</td>\n",
       "      <td>Принятие решений в условиях риска и неопределё...</td>\n",
       "      <td>-</td>\n",
       "      <td>NaN</td>\n",
       "      <td>NaN</td>\n",
       "      <td>???</td>\n",
       "      <td>-</td>\n",
       "    </tr>\n",
       "    <tr>\n",
       "      <th>49</th>\n",
       "      <td>2020-05-16 13:02:24.706</td>\n",
       "      <td>5daee1bd98559bb2c52373e416942225</td>\n",
       "      <td>593</td>\n",
       "      <td>182.0</td>\n",
       "      <td>0.0</td>\n",
       "      <td>Машинное обучение 2</td>\n",
       "      <td>Промышленное программирование на языке Java</td>\n",
       "      <td>Анализ данных в бизнесе</td>\n",
       "      <td>Нет</td>\n",
       "      <td>0.681614</td>\n",
       "      <td>0.0</td>\n",
       "      <td></td>\n",
       "      <td>1.0</td>\n",
       "      <td>1</td>\n",
       "      <td>Statistical Learning Theory</td>\n",
       "      <td>-</td>\n",
       "      <td>NaN</td>\n",
       "      <td>NaN</td>\n",
       "      <td>???</td>\n",
       "      <td>-</td>\n",
       "    </tr>\n",
       "    <tr>\n",
       "      <th>196</th>\n",
       "      <td>2020-05-18 20:34:07.220</td>\n",
       "      <td>fc2c60b8004aa91bc272df84628621ff</td>\n",
       "      <td>639</td>\n",
       "      <td>183.0</td>\n",
       "      <td>0.0</td>\n",
       "      <td>Системы баз данных</td>\n",
       "      <td>Машинное обучение 2</td>\n",
       "      <td>Анализ данных в бизнесе</td>\n",
       "      <td>Нет</td>\n",
       "      <td>0.461883</td>\n",
       "      <td>0.0</td>\n",
       "      <td></td>\n",
       "      <td>1.0</td>\n",
       "      <td>1</td>\n",
       "      <td>Язык SQL</td>\n",
       "      <td>-</td>\n",
       "      <td>NaN</td>\n",
       "      <td>NaN</td>\n",
       "      <td>???</td>\n",
       "      <td>-</td>\n",
       "    </tr>\n",
       "    <tr>\n",
       "      <th>219</th>\n",
       "      <td>2020-05-18 21:24:23.667</td>\n",
       "      <td>6ed89e424179b0510e3f7c0cb7369ad6</td>\n",
       "      <td>558</td>\n",
       "      <td>187.0</td>\n",
       "      <td>0.0</td>\n",
       "      <td>Анализ данных в бизнесе</td>\n",
       "      <td>Промышленное программирование на языке Java</td>\n",
       "      <td>Машинное обучение 2</td>\n",
       "      <td>Да</td>\n",
       "      <td>0.838565</td>\n",
       "      <td>0.0</td>\n",
       "      <td></td>\n",
       "      <td>1.0</td>\n",
       "      <td>1</td>\n",
       "      <td>Моделирование временных рядов</td>\n",
       "      <td>-</td>\n",
       "      <td>NaN</td>\n",
       "      <td>NaN</td>\n",
       "      <td>???</td>\n",
       "      <td>-</td>\n",
       "    </tr>\n",
       "    <tr>\n",
       "      <th>278</th>\n",
       "      <td>2020-05-18 23:01:03.214</td>\n",
       "      <td>abceddfa2fc4eae8cff4a4e712abb3fb</td>\n",
       "      <td>664</td>\n",
       "      <td>183.0</td>\n",
       "      <td>0.0</td>\n",
       "      <td>Машинное обучение 2</td>\n",
       "      <td>Промышленное программирование на языке Java</td>\n",
       "      <td>Дополнительные главы прикладной статистики</td>\n",
       "      <td>Да</td>\n",
       "      <td>0.345291</td>\n",
       "      <td>0.0</td>\n",
       "      <td></td>\n",
       "      <td>1.0</td>\n",
       "      <td>1</td>\n",
       "      <td>Моделирование временных рядов</td>\n",
       "      <td>-</td>\n",
       "      <td>NaN</td>\n",
       "      <td>NaN</td>\n",
       "      <td>???</td>\n",
       "      <td>-</td>\n",
       "    </tr>\n",
       "  </tbody>\n",
       "</table>\n",
       "</div>"
      ],
      "text/plain": [
       "                  timestamp                                id  rating  \\\n",
       "40  2020-05-15 21:55:16.699  f0f6f3881894172a0f04e79b554b49e6     673   \n",
       "49  2020-05-16 13:02:24.706  5daee1bd98559bb2c52373e416942225     593   \n",
       "196 2020-05-18 20:34:07.220  fc2c60b8004aa91bc272df84628621ff     639   \n",
       "219 2020-05-18 21:24:23.667  6ed89e424179b0510e3f7c0cb7369ad6     558   \n",
       "278 2020-05-18 23:01:03.214  abceddfa2fc4eae8cff4a4e712abb3fb     664   \n",
       "\n",
       "     18_group  is_mi                 spring_1  \\\n",
       "40      181.0    0.0      Машинное обучение 2   \n",
       "49      182.0    0.0      Машинное обучение 2   \n",
       "196     183.0    0.0       Системы баз данных   \n",
       "219     187.0    0.0  Анализ данных в бизнесе   \n",
       "278     183.0    0.0      Машинное обучение 2   \n",
       "\n",
       "                                        spring_2  \\\n",
       "40                              Численные методы   \n",
       "49   Промышленное программирование на языке Java   \n",
       "196                          Машинное обучение 2   \n",
       "219  Промышленное программирование на языке Java   \n",
       "278  Промышленное программирование на языке Java   \n",
       "\n",
       "                                       spring_3 is_first_time  percentile  \\\n",
       "40   Дополнительные главы прикладной статистики            Да    0.300448   \n",
       "49                      Анализ данных в бизнесе           Нет    0.681614   \n",
       "196                     Анализ данных в бизнесе           Нет    0.461883   \n",
       "219                         Машинное обучение 2            Да    0.838565   \n",
       "278  Дополнительные главы прикладной статистики            Да    0.345291   \n",
       "\n",
       "     17_group blended  is_ml_student  amount_of_courses  \\\n",
       "40        0.0                    1.0                  1   \n",
       "49        0.0                    1.0                  1   \n",
       "196       0.0                    1.0                  1   \n",
       "219       0.0                    1.0                  1   \n",
       "278       0.0                    1.0                  1   \n",
       "\n",
       "                                          fall_course1 fall_course_2  \\\n",
       "40   Принятие решений в условиях риска и неопределё...             -   \n",
       "49                         Statistical Learning Theory             -   \n",
       "196                                           Язык SQL             -   \n",
       "219                      Моделирование временных рядов             -   \n",
       "278                      Моделирование временных рядов             -   \n",
       "\n",
       "     is_first_place  is_last_place spring_1_result spring_2_result  \n",
       "40              NaN            NaN             ???               -  \n",
       "49              NaN            NaN             ???               -  \n",
       "196             NaN            NaN             ???               -  \n",
       "219             NaN            NaN             ???               -  \n",
       "278             NaN            NaN             ???               -  "
      ]
     },
     "execution_count": 269,
     "metadata": {},
     "output_type": "execute_result"
    }
   ],
   "source": [
    "# вспомним, что моперы могли бахнуть мо-2 как кпв. Расстроимся из-за этого и пойдем на перекур\n",
    "group_column = data['17_group']\n",
    "query = \"(spring_1 == 'Машинное обучение 2' or spring_2 == 'Машинное обучение 2' or spring_3 == 'Машинное обучение 2') \\\n",
    "          and (is_ml_student == 1.0 or @group_column == 171 or @group_column == 172)\"\n",
    "data.query(query)"
   ]
  },
  {
   "cell_type": "code",
   "execution_count": 270,
   "metadata": {},
   "outputs": [
    {
     "data": {
      "text/html": [
       "<div>\n",
       "<style scoped>\n",
       "    .dataframe tbody tr th:only-of-type {\n",
       "        vertical-align: middle;\n",
       "    }\n",
       "\n",
       "    .dataframe tbody tr th {\n",
       "        vertical-align: top;\n",
       "    }\n",
       "\n",
       "    .dataframe thead th {\n",
       "        text-align: right;\n",
       "    }\n",
       "</style>\n",
       "<table border=\"1\" class=\"dataframe\">\n",
       "  <thead>\n",
       "    <tr style=\"text-align: right;\">\n",
       "      <th></th>\n",
       "      <th>timestamp</th>\n",
       "      <th>id</th>\n",
       "      <th>rating</th>\n",
       "      <th>18_group</th>\n",
       "      <th>is_mi</th>\n",
       "      <th>spring_1</th>\n",
       "      <th>spring_2</th>\n",
       "      <th>spring_3</th>\n",
       "      <th>is_first_time</th>\n",
       "      <th>percentile</th>\n",
       "      <th>17_group</th>\n",
       "      <th>blended</th>\n",
       "      <th>is_ml_student</th>\n",
       "      <th>amount_of_courses</th>\n",
       "      <th>fall_course1</th>\n",
       "      <th>fall_course_2</th>\n",
       "      <th>is_first_place</th>\n",
       "      <th>is_last_place</th>\n",
       "      <th>spring_1_result</th>\n",
       "      <th>spring_2_result</th>\n",
       "    </tr>\n",
       "  </thead>\n",
       "  <tbody>\n",
       "  </tbody>\n",
       "</table>\n",
       "</div>"
      ],
      "text/plain": [
       "Empty DataFrame\n",
       "Columns: [timestamp, id, rating, 18_group, is_mi, spring_1, spring_2, spring_3, is_first_time, percentile, 17_group, blended, is_ml_student, amount_of_courses, fall_course1, fall_course_2, is_first_place, is_last_place, spring_1_result, spring_2_result]\n",
       "Index: []"
      ]
     },
     "execution_count": 270,
     "metadata": {},
     "output_type": "execute_result"
    }
   ],
   "source": [
    "# перенесем приоритеты для тех кто выбрал 1 приоритетом мо-2\n",
    "ml = \"Машинное обучение 2\"\n",
    "\n",
    "ml_first_prior = ((data['spring_1'] == ml) & ((data['is_ml_student'] == 1.0) | data['17_group'].isin([171, 172])))\n",
    "data.loc[ml_first_prior , 'spring_1'] = data['spring_2']\n",
    "data.loc[ml_first_prior , 'spring_2'] = data['spring_3']\n",
    "data.loc[ml_first_prior , 'spring_3'] = '-'\n",
    "\n",
    "ml_second_prior = ((data['spring_2'] == ml) & ((data['is_ml_student'] == 1.0) | data['17_group'].isin([171, 172])))\n",
    "data.loc[ml_second_prior , 'spring_2'] = data['spring_3']\n",
    "data.loc[ml_first_prior , 'spring_3'] = '-'\n",
    "\n",
    "ml_third_prior = ((data['spring_3'] == ml) & ((data['is_ml_student'] == 1.0) | data['17_group'].isin([171, 172])))\n",
    "data.loc[ml_third_prior , 'spring_3'] = '-'\n",
    "\n",
    "\n",
    "data.query(query)"
   ]
  },
  {
   "cell_type": "markdown",
   "metadata": {},
   "source": [
    "Как видим, избавились от всех таких моперов"
   ]
  },
  {
   "cell_type": "code",
   "execution_count": 271,
   "metadata": {},
   "outputs": [],
   "source": [
    "for course in all_courses:\n",
    "    if course_to_places[course] == 0:\n",
    "        continue\n",
    "    # нашли всех претендентов на данный курс\n",
    "    potential = data[(data['spring_1_result'] == '???') |\n",
    "                              (data['spring_2_result'] == '???')]\n",
    "    \n",
    "    potential = potential.loc[((potential['amount_of_courses'] == 2) & \n",
    "                               ((potential['spring_1'] == course) | (potential['spring_2'] == course)))\n",
    "                              |\n",
    "                              ((potential['amount_of_courses'] == 1) & (potential['spring_1'] == course) &\n",
    "                              ((potential['spring_1_result'] == '???') | (potential['spring_2_result'] == '???')))].sort_values('percentile') \n",
    "    \n",
    "    top_students = potential.head(course_to_places[course])\n",
    "    \n",
    "    # распределяем столько студентов, сколько мест на курсе\n",
    "    condition_1 = (data['id'].isin(top_students['id']) & (data['spring_1_result'] == '???'))\n",
    "    \n",
    "    data['spring_1_result'] = np.where(condition_1, course, data['spring_1_result'])\n",
    "\n",
    "    # Учтем студентов, у которых два курса\n",
    "    condition_2 = (data['id'].isin(top_students['id']) & \n",
    "                   (data['spring_1_result'] != course) &\n",
    "                   (data['spring_2_result'] == '???') &\n",
    "                   (data['amount_of_courses'] == 2))\n",
    "\n",
    "    data['spring_2_result'] = np.where(condition_2, course, data['spring_2_result'])\n",
    "    \n",
    "    # распределили - значит места потратили \n",
    "    course_to_places[course] -= len(top_students)\n",
    "    \n",
    "    # индексы красивые хочеца\n",
    "    data.reset_index(drop=True, inplace=True)\n",
    "    \n",
    "    "
   ]
  },
  {
   "cell_type": "code",
   "execution_count": 272,
   "metadata": {},
   "outputs": [],
   "source": [
    "# вторая волна \n",
    "for course in all_courses:\n",
    "    if course_to_places[course] == 0:\n",
    "        continue\n",
    "    potential = data[(data['spring_1_result'] == '???') |\n",
    "                          (data['spring_2_result'] == '???')]\n",
    "    \n",
    "    potential = potential.loc[((potential['amount_of_courses'] == 2) & \n",
    "                               (potential['spring_3'] == course)\n",
    "                              )|\n",
    "                              ((potential['amount_of_courses'] == 1) & (data['spring_2'] == course))]\n",
    "\n",
    "    # учтем, что если уже распределили на этот курс, то нафиг его \n",
    "    potential = potential.loc[(potential['spring_1_result'] != course) &\n",
    "                                        (potential['spring_2_result'] != course)]\n",
    "    \n",
    "    potential = potential.sort_values('percentile') \n",
    "    # сортируем по рейтингу\n",
    "    top_students = potential.head(course_to_places[course])\n",
    "    \n",
    "    # распределяем столько студентов, сколько мест на курсе\n",
    "    condition_1 = (data['id'].isin(top_students['id']) & (data['spring_1_result'] == '???'))\n",
    "    \n",
    "    data['spring_1_result'] = np.where(condition_1, course, data['spring_1_result'])\n",
    "\n",
    "    # Учтем студентов, у которых два курса\n",
    "    condition_2 = (data['id'].isin(top_students['id']) & \n",
    "                   (data['spring_1_result'] != course) &\n",
    "                   (data['spring_2_result'] == '???') &\n",
    "                   (data['amount_of_courses'] == 2))\n",
    "\n",
    "    data['spring_2_result'] = np.where(condition_2, course, data['spring_2_result'])\n",
    "    \n",
    "    # распределили - значит места потратили \n",
    "    course_to_places[course] -= len(top_students)\n",
    "    \n",
    "    # индексы красивые хочеца\n",
    "    data.reset_index(drop=True, inplace=True)\n",
    "    "
   ]
  },
  {
   "cell_type": "code",
   "execution_count": 273,
   "metadata": {},
   "outputs": [],
   "source": [
    "# третья волна\n",
    "for course in all_courses:\n",
    "    if course_to_places[course] == 0:\n",
    "        continue\n",
    "\n",
    "    potential = data[(data['spring_1_result'] == '???') |\n",
    "                          (data['spring_2_result'] == '???')]\n",
    "    \n",
    "    potential = potential.loc[(potential['amount_of_courses'] == 1) & (potential['spring_3'] == course)]\n",
    "    \n",
    "    # учтем, что если уже распределили на этот курс, то нафиг его \n",
    "    potential = potential.loc[(potential['spring_1_result'] != course) &\n",
    "                              (potential['spring_2_result'] != course)]\n",
    "\n",
    "    potential = potential.sort_values('percentile') \n",
    "    \n",
    "    # сортируем по рейтингу\n",
    "    top_students = potential.head(course_to_places[course])\n",
    "    \n",
    "    # распределяем столько студентов, сколько мест на курсе\n",
    "    condition_1 = (data['id'].isin(top_students['id']) & (data['spring_1_result'] == '???'))\n",
    "    \n",
    "    data['spring_1_result'] = np.where(condition_1, course, data['spring_1_result'])\n",
    "\n",
    "    # Учтем студентов, у которых два курса\n",
    "    condition_2 = (data['id'].isin(top_students['id']) & \n",
    "                   (data['spring_1_result'] != course) &\n",
    "                   (data['spring_2_result'] == '???') &\n",
    "                   (data['amount_of_courses'] == 2))\n",
    "\n",
    "    data['spring_2_result'] = np.where(condition_2, course, data['spring_2_result'])\n",
    "    # распределили - значит места потратили \n",
    "    course_to_places[course] -= len(top_students)\n",
    "    \n",
    "    # индексы красивые хочеца\n",
    "    data.reset_index(drop=True, inplace=True)"
   ]
  },
  {
   "cell_type": "code",
   "execution_count": 274,
   "metadata": {},
   "outputs": [],
   "source": [
    "data.rename(columns={'id': 'ID', 'spring_1_result': 'course1', 'spring_2_result': 'course2'}, inplace=True)\n",
    "data[['ID', 'course1', 'course2']].to_csv('res_spring.csv', index=None)"
   ]
  },
  {
   "cell_type": "markdown",
   "metadata": {
    "id": "It7QQZLYhLu7"
   },
   "source": [
    "**Отправьте свой файл res_spring.csv в контест (https://contest.yandex.ru/contest/52663/problems/A) и прикрепите/укажите ниже ваш никнейм и ссылку на успешную посылку.**"
   ]
  },
  {
   "cell_type": "markdown",
   "metadata": {},
   "source": [
    "Никнейм: Антон Нуждин\n",
    "\n",
    "Посылка: https://contest.yandex.ru/contest/52663/run-report/91280442/"
   ]
  },
  {
   "cell_type": "markdown",
   "metadata": {
    "id": "1YcouVTihLu7"
   },
   "source": [
    "На всякий случай просим вас сдать вместе с ноутбуком файл res_spring.csv в anytask"
   ]
  },
  {
   "cell_type": "markdown",
   "metadata": {
    "id": "uY_OY6inhLu7"
   },
   "source": [
    "Вставьте картинку, описывающую ваш опыт выполнения этого задания:"
   ]
  },
  {
   "cell_type": "code",
   "execution_count": 2291,
   "metadata": {
    "id": "R9_7CnSFhLu7"
   },
   "outputs": [
    {
     "data": {
      "image/png": "[encoded data removed]",
      "text/plain": [
       "<IPython.core.display.Image object>"
      ]
     },
     "execution_count": 2291,
     "metadata": {},
     "output_type": "execute_result"
    }
   ],
   "source": [
    "from IPython.display import Image\n",
    "Image(\"/Users/antonnuzhdin/Desktop/Screenshot 2023-09-25 at 02.15.02.png\")"
   ]
  },
  {
   "cell_type": "markdown",
   "metadata": {},
   "source": [
    "анекдот:\n",
    "\n",
    "захотелось как-то Гордею Скоробогатову в америке манку поесть\n",
    "\n",
    "приходит в местный магазин и говорит чернокожему кассиру:\n",
    "\n",
    "— дай манки"
   ]
  }
 ],
 "metadata": {
  "colab": {
   "name": "homework-practice-01-pandas.ipynb",
   "provenance": []
  },
  "kernelspec": {
   "display_name": "Python 3 (ipykernel)",
   "language": "python",
   "name": "python3"
  },
  "language_info": {
   "codemirror_mode": {
    "name": "ipython",
    "version": 3
   },
   "file_extension": ".py",
   "mimetype": "text/x-python",
   "name": "python",
   "nbconvert_exporter": "python",
   "pygments_lexer": "ipython3",
   "version": "3.9.13"
  },
  "varInspector": {
   "cols": {
    "lenName": 16,
    "lenType": 16,
    "lenVar": 40
   },
   "kernels_config": {
    "python": {
     "delete_cmd_postfix": "",
     "delete_cmd_prefix": "del ",
     "library": "var_list.py",
     "varRefreshCmd": "print(var_dic_list())"
    },
    "r": {
     "delete_cmd_postfix": ") ",
     "delete_cmd_prefix": "rm(",
     "library": "var_list.r",
     "varRefreshCmd": "cat(var_dic_list()) "
    }
   },
   "types_to_exclude": [
    "module",
    "function",
    "builtin_function_or_method",
    "instance",
    "_Feature"
   ],
   "window_display": false
  },
  "vscode": {
   "interpreter": {
    "hash": "e7370f93d1d0cde622a1f8e1c04877d8463912d04d973331ad4851f04de6915a"
   }
  }
 },
 "nbformat": 4,
 "nbformat_minor": 1
}
